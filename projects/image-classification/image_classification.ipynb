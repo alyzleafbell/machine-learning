{
 "cells": [
  {
   "cell_type": "markdown",
   "metadata": {
    "collapsed": true
   },
   "source": [
    "# Image Classification\n",
    "In this project, you'll classify images from the [CIFAR-10 dataset](https://www.cs.toronto.edu/~kriz/cifar.html).  The dataset consists of airplanes, dogs, cats, and other objects. You'll preprocess the images, then train a convolutional neural network on all the samples. The images need to be normalized and the labels need to be one-hot encoded.  You'll get to apply what you learned and build a convolutional, max pooling, dropout, and fully connected layers.  At the end, you'll get to see your neural network's predictions on the sample images.\n",
    "## Get the Data\n",
    "Run the following cell to download the [CIFAR-10 dataset for python](https://www.cs.toronto.edu/~kriz/cifar-10-python.tar.gz)."
   ]
  },
  {
   "cell_type": "code",
   "execution_count": 333,
   "metadata": {},
   "outputs": [
    {
     "name": "stdout",
     "output_type": "stream",
     "text": [
      "All files found!\n"
     ]
    }
   ],
   "source": [
    "\"\"\"\n",
    "DON'T MODIFY ANYTHING IN THIS CELL THAT IS BELOW THIS LINE\n",
    "\"\"\"\n",
    "from urllib.request import urlretrieve\n",
    "from os.path import isfile, isdir\n",
    "from tqdm import tqdm\n",
    "import problem_unittests as tests\n",
    "import tarfile\n",
    "import math\n",
    "\n",
    "cifar10_dataset_folder_path = 'cifar-10-batches-py'\n",
    "\n",
    "class DLProgress(tqdm):\n",
    "    last_block = 0\n",
    "\n",
    "    def hook(self, block_num=1, block_size=1, total_size=None):\n",
    "        self.total = total_size\n",
    "        self.update((block_num - self.last_block) * block_size)\n",
    "        self.last_block = block_num\n",
    "\n",
    "if not isfile('cifar-10-python.tar.gz'):\n",
    "    with DLProgress(unit='B', unit_scale=True, miniters=1, desc='CIFAR-10 Dataset') as pbar:\n",
    "        urlretrieve(\n",
    "            'https://www.cs.toronto.edu/~kriz/cifar-10-python.tar.gz',\n",
    "            'cifar-10-python.tar.gz',\n",
    "            pbar.hook)\n",
    "\n",
    "if not isdir(cifar10_dataset_folder_path):\n",
    "    with tarfile.open('cifar-10-python.tar.gz') as tar:\n",
    "        tar.extractall()\n",
    "        tar.close()\n",
    "\n",
    "\n",
    "tests.test_folder_path(cifar10_dataset_folder_path)"
   ]
  },
  {
   "cell_type": "markdown",
   "metadata": {},
   "source": [
    "## Explore the Data\n",
    "The dataset is broken into batches to prevent your machine from running out of memory.  The CIFAR-10 dataset consists of 5 batches, named `data_batch_1`, `data_batch_2`, etc.. Each batch contains the labels and images that are one of the following:\n",
    "* airplane\n",
    "* automobile\n",
    "* bird\n",
    "* cat\n",
    "* deer\n",
    "* dog\n",
    "* frog\n",
    "* horse\n",
    "* ship\n",
    "* truck\n",
    "\n",
    "Understanding a dataset is part of making predictions on the data.  Play around with the code cell below by changing the `batch_id` and `sample_id`. The `batch_id` is the id for a batch (1-5). The `sample_id` is the id for a image and label pair in the batch.\n",
    "\n",
    "Ask yourself \"What are all possible labels?\", \"What is the range of values for the image data?\", \"Are the labels in order or random?\".  Answers to questions like these will help you preprocess the data and end up with better predictions."
   ]
  },
  {
   "cell_type": "code",
   "execution_count": 319,
   "metadata": {},
   "outputs": [
    {
     "name": "stdout",
     "output_type": "stream",
     "text": [
      "\n",
      "Stats of batch 1:\n",
      "Samples: 10000\n",
      "Label Counts: {0: 1005, 1: 974, 2: 1032, 3: 1016, 4: 999, 5: 937, 6: 1030, 7: 1001, 8: 1025, 9: 981}\n",
      "First 20 Labels: [6, 9, 9, 4, 1, 1, 2, 7, 8, 3, 4, 7, 7, 2, 9, 9, 9, 3, 2, 6]\n",
      "\n",
      "Example of Image 500:\n",
      "Image - Min Value: 0 Max Value: 255\n",
      "Image - Shape: (32, 32, 3)\n",
      "Label - Label Id: 5 Name: dog\n"
     ]
    },
    {
     "data": {
      "image/png": "[encoded data removed]",
      "text/plain": [
       "<matplotlib.figure.Figure at 0x1200da208>"
      ]
     },
     "metadata": {
      "image/png": {
       "height": 250,
       "width": 253
      }
     },
     "output_type": "display_data"
    }
   ],
   "source": [
    "%matplotlib inline\n",
    "%config InlineBackend.figure_format = 'retina'\n",
    "\n",
    "import helper\n",
    "import numpy as np\n",
    "\n",
    "# Explore the dataset\n",
    "batch_id = 1\n",
    "sample_id = 500\n",
    "helper.display_stats(cifar10_dataset_folder_path, batch_id, sample_id)"
   ]
  },
  {
   "cell_type": "markdown",
   "metadata": {},
   "source": [
    "## Implement Preprocess Functions\n",
    "### Normalize\n",
    "In the cell below, implement the `normalize` function to take in image data, `x`, and return it as a normalized Numpy array. The values should be in the range of 0 to 1, inclusive.  The return object should be the same shape as `x`."
   ]
  },
  {
   "cell_type": "code",
   "execution_count": 320,
   "metadata": {},
   "outputs": [
    {
     "name": "stdout",
     "output_type": "stream",
     "text": [
      "Tests Passed\n"
     ]
    }
   ],
   "source": [
    "def normalize(x):\n",
    "    \"\"\"\n",
    "    Normalize a list of sample image data in the range of 0 to 1\n",
    "    : x: List of image data.  The image shape is (32, 32, 3)\n",
    "    : return: Numpy array of normalize data\n",
    "    \"\"\"\n",
    "    # TODO: Implement Function\n",
    "    max,min = x.max(),x.min()\n",
    "    x = (x-min)/(max-min)\n",
    "    \n",
    "    return x\n",
    "\n",
    "\n",
    "\"\"\"\n",
    "DON'T MODIFY ANYTHING IN THIS CELL THAT IS BELOW THIS LINE\n",
    "\"\"\"\n",
    "tests.test_normalize(normalize)"
   ]
  },
  {
   "cell_type": "markdown",
   "metadata": {},
   "source": [
    "### One-hot encode\n",
    "Just like the previous code cell, you'll be implementing a function for preprocessing.  This time, you'll implement the `one_hot_encode` function. The input, `x`, are a list of labels.  Implement the function to return the list of labels as One-Hot encoded Numpy array.  The possible values for labels are 0 to 9. The one-hot encoding function should return the same encoding for each value between each call to `one_hot_encode`.  Make sure to save the map of encodings outside the function.\n",
    "\n",
    "**Hint:**\n",
    "\n",
    "Look into LabelBinarizer in the preprocessing module of sklearn."
   ]
  },
  {
   "cell_type": "code",
   "execution_count": 321,
   "metadata": {},
   "outputs": [
    {
     "name": "stdout",
     "output_type": "stream",
     "text": [
      "Tests Passed\n"
     ]
    }
   ],
   "source": [
    "def one_hot_encode(x):\n",
    "    \"\"\"\n",
    "    One hot encode a list of sample labels. Return a one-hot encoded vector for each label.\n",
    "    : x: List of sample Labels\n",
    "    : return: Numpy array of one-hot encoded labels\n",
    "    \"\"\"\n",
    "    # TODO: Implement Function\n",
    "    onehot = np.zeros((len(x),10),dtype=np.int8)\n",
    "    for i in range(0,len(x)):\n",
    "        onehot[i,x[i]]=1\n",
    "\n",
    "    return onehot\n",
    "\n",
    "\n",
    "\"\"\"\n",
    "DON'T MODIFY ANYTHING IN THIS CELL THAT IS BELOW THIS LINE\n",
    "\"\"\"\n",
    "tests.test_one_hot_encode(one_hot_encode)"
   ]
  },
  {
   "cell_type": "markdown",
   "metadata": {},
   "source": [
    "### Randomize Data\n",
    "As you saw from exploring the data above, the order of the samples are randomized.  It doesn't hurt to randomize it again, but you don't need to for this dataset."
   ]
  },
  {
   "cell_type": "markdown",
   "metadata": {},
   "source": [
    "## Preprocess all the data and save it\n",
    "Running the code cell below will preprocess all the CIFAR-10 data and save it to file. The code below also uses 10% of the training data for validation."
   ]
  },
  {
   "cell_type": "code",
   "execution_count": 322,
   "metadata": {},
   "outputs": [],
   "source": [
    "\"\"\"\n",
    "DON'T MODIFY ANYTHING IN THIS CELL\n",
    "\"\"\"\n",
    "# Preprocess Training, Validation, and Testing Data\n",
    "helper.preprocess_and_save_data(cifar10_dataset_folder_path, normalize, one_hot_encode)"
   ]
  },
  {
   "cell_type": "markdown",
   "metadata": {},
   "source": [
    "# Check Point\n",
    "This is your first checkpoint.  If you ever decide to come back to this notebook or have to restart the notebook, you can start from here.  The preprocessed data has been saved to disk."
   ]
  },
  {
   "cell_type": "code",
   "execution_count": 323,
   "metadata": {
    "collapsed": true
   },
   "outputs": [],
   "source": [
    "\"\"\"\n",
    "DON'T MODIFY ANYTHING IN THIS CELL\n",
    "\"\"\"\n",
    "import pickle\n",
    "import problem_unittests as tests\n",
    "import helper\n",
    "\n",
    "# Load the Preprocessed Validation data\n",
    "valid_features, valid_labels = pickle.load(open('preprocess_validation.p', mode='rb'))"
   ]
  },
  {
   "cell_type": "markdown",
   "metadata": {},
   "source": [
    "## Build the network\n",
    "For the neural network, you'll build each layer into a function.  Most of the code you've seen has been outside of functions. To test your code more thoroughly, we require that you put each layer in a function.  This allows us to give you better feedback and test for simple mistakes using our unittests before you submit your project.\n",
    "\n",
    ">**Note:** If you're finding it hard to dedicate enough time for this course each week, we've provided a small shortcut to this part of the project. In the next couple of problems, you'll have the option to use classes from the [TensorFlow Layers](https://www.tensorflow.org/api_docs/python/tf/layers) or [TensorFlow Layers (contrib)](https://www.tensorflow.org/api_guides/python/contrib.layers) packages to build each layer, except the layers you build in the \"Convolutional and Max Pooling Layer\" section.  TF Layers is similar to Keras's and TFLearn's abstraction to layers, so it's easy to pickup.\n",
    "\n",
    ">However, if you would like to get the most out of this course, try to solve all the problems _without_ using anything from the TF Layers packages. You **can** still use classes from other packages that happen to have the same name as ones you find in TF Layers! For example, instead of using the TF Layers version of the `conv2d` class, [tf.layers.conv2d](https://www.tensorflow.org/api_docs/python/tf/layers/conv2d), you would want to use the TF Neural Network version of `conv2d`, [tf.nn.conv2d](https://www.tensorflow.org/api_docs/python/tf/nn/conv2d). \n",
    "\n",
    "Let's begin!\n",
    "\n",
    "### Input\n",
    "The neural network needs to read the image data, one-hot encoded labels, and dropout keep probability. Implement the following functions\n",
    "* Implement `neural_net_image_input`\n",
    " * Return a [TF Placeholder](https://www.tensorflow.org/api_docs/python/tf/placeholder)\n",
    " * Set the shape using `image_shape` with batch size set to `None`.\n",
    " * Name the TensorFlow placeholder \"x\" using the TensorFlow `name` parameter in the [TF Placeholder](https://www.tensorflow.org/api_docs/python/tf/placeholder).\n",
    "* Implement `neural_net_label_input`\n",
    " * Return a [TF Placeholder](https://www.tensorflow.org/api_docs/python/tf/placeholder)\n",
    " * Set the shape using `n_classes` with batch size set to `None`.\n",
    " * Name the TensorFlow placeholder \"y\" using the TensorFlow `name` parameter in the [TF Placeholder](https://www.tensorflow.org/api_docs/python/tf/placeholder).\n",
    "* Implement `neural_net_keep_prob_input`\n",
    " * Return a [TF Placeholder](https://www.tensorflow.org/api_docs/python/tf/placeholder) for dropout keep probability.\n",
    " * Name the TensorFlow placeholder \"keep_prob\" using the TensorFlow `name` parameter in the [TF Placeholder](https://www.tensorflow.org/api_docs/python/tf/placeholder).\n",
    "\n",
    "These names will be used at the end of the project to load your saved model.\n",
    "\n",
    "Note: `None` for shapes in TensorFlow allow for a dynamic size."
   ]
  },
  {
   "cell_type": "code",
   "execution_count": 331,
   "metadata": {},
   "outputs": [
    {
     "name": "stdout",
     "output_type": "stream",
     "text": [
      "Image Input Tests Passed.\n",
      "Label Input Tests Passed.\n",
      "Keep Prob Tests Passed.\n"
     ]
    }
   ],
   "source": [
    "import tensorflow as tf\n",
    "\n",
    "def neural_net_image_input(image_shape):\n",
    "    \"\"\"\n",
    "    Return a Tensor for a batch of image input\n",
    "    : image_shape: Shape of the images\n",
    "    : return: Tensor for image input.\n",
    "    \"\"\"\n",
    "\n",
    "    # TODO: Implement Function\n",
    "    return tf.placeholder(tf.float32, list((None,)+(image_shape)),name='x')\n",
    "\n",
    "\n",
    "def neural_net_label_input(n_classes):\n",
    "    \"\"\"\n",
    "    Return a Tensor for a batch of label input\n",
    "    : n_classes: Number of classes\n",
    "    : return: Tensor for label input.\n",
    "    \"\"\"\n",
    "    # TODO: Implement Function\n",
    "    return tf.placeholder(tf.float32, [None, n_classes],name='y')\n",
    "\n",
    "\n",
    "def neural_net_keep_prob_input():\n",
    "    \"\"\"\n",
    "    Return a Tensor for keep probability\n",
    "    : return: Tensor for keep probability.\n",
    "    \"\"\"\n",
    "    # TODO: Implement Function\n",
    "    return tf.placeholder(tf.float32,name='keep_prob')\n",
    "\n",
    "\n",
    "\"\"\"\n",
    "DON'T MODIFY ANYTHING IN THIS CELL THAT IS BELOW THIS LINE\n",
    "\"\"\"\n",
    "tf.reset_default_graph()\n",
    "tests.test_nn_image_inputs(neural_net_image_input)\n",
    "tests.test_nn_label_inputs(neural_net_label_input)\n",
    "tests.test_nn_keep_prob_inputs(neural_net_keep_prob_input)"
   ]
  },
  {
   "cell_type": "markdown",
   "metadata": {},
   "source": [
    "### Convolution and Max Pooling Layer\n",
    "Convolution layers have a lot of success with images. For this code cell, you should implement the function `conv2d_maxpool` to apply convolution then max pooling:\n",
    "* Create the weight and bias using `conv_ksize`, `conv_num_outputs` and the shape of `x_tensor`.\n",
    "* Apply a convolution to `x_tensor` using weight and `conv_strides`.\n",
    " * We recommend you use same padding, but you're welcome to use any padding.\n",
    "* Add bias\n",
    "* Add a nonlinear activation to the convolution.\n",
    "* Apply Max Pooling using `pool_ksize` and `pool_strides`.\n",
    " * We recommend you use same padding, but you're welcome to use any padding.\n",
    "\n",
    "**Note:** You **can't** use [TensorFlow Layers](https://www.tensorflow.org/api_docs/python/tf/layers) or [TensorFlow Layers (contrib)](https://www.tensorflow.org/api_guides/python/contrib.layers) for **this** layer, but you can still use TensorFlow's [Neural Network](https://www.tensorflow.org/api_docs/python/tf/nn) package. You may still use the shortcut option for all the **other** layers.\n",
    "\n",
    "** Hint: **\n",
    "\n",
    "When unpacking values as an argument in Python, look into the [unpacking](https://docs.python.org/3/tutorial/controlflow.html#unpacking-argument-lists) operator. "
   ]
  },
  {
   "cell_type": "code",
   "execution_count": 357,
   "metadata": {},
   "outputs": [
    {
     "name": "stdout",
     "output_type": "stream",
     "text": [
      "conv2d_maxpool x_tensor shape:\n",
      "(?, 32, 32, 5)\n",
      "Tests Passed\n"
     ]
    }
   ],
   "source": [
    "def conv2d_maxpool(x_tensor, conv_num_outputs, conv_ksize, conv_strides, pool_ksize, pool_strides):\n",
    "    \"\"\"\n",
    "    Apply convolution then max pooling to x_tensor\n",
    "    :param x_tensor: TensorFlow Tensor\n",
    "    :param conv_num_outputs: Number of outputs for the convolutional layer\n",
    "    :param conv_ksize: kernal size 2-D Tuple for the convolutional layer\n",
    "    :param conv_strides: Stride 2-D Tuple for convolution\n",
    "    :param pool_ksize: kernal size 2-D Tuple for pool\n",
    "    :param pool_strides: Stride 2-D Tuple for pool\n",
    "    : return: A tensor that represents convolution and max pooling of x_tensor\n",
    "    \"\"\"\n",
    "    # TODO: Implement Function\n",
    "    print('conv2d_maxpool x_tensor shape:')\n",
    "    print(x_tensor.shape)\n",
    "    input_depth = int(x_tensor.shape[len(x_tensor.shape)-1])\n",
    "    input_n = conv_ksize[0]**2*input_depth*conv_num_outputs\n",
    "    filter_weights = tf.Variable(tf.truncated_normal((*conv_ksize , input_depth,conv_num_outputs)) * math.sqrt(2/input_n)) # (height, width, input_depth, output_depth)\n",
    "    filter_bias = tf.Variable(tf.zeros(conv_num_outputs))\n",
    "    strides = (1, *conv_strides, 1) # (batch, height, width, depth)\n",
    "\n",
    "    padding = 'SAME'\n",
    "    conv = tf.nn.conv2d(x_tensor, filter_weights, strides, padding) \n",
    "    conv = tf.nn.bias_add(conv, filter_bias)\n",
    "    conv = tf.nn.relu(conv)\n",
    "\n",
    "    p_filter = (1, *pool_ksize, 1)\n",
    "    p_strides = (1, *pool_strides, 1)\n",
    "    padding = 'SAME'\n",
    "    return tf.nn.max_pool(conv, p_filter, p_strides, padding)\n",
    "\n",
    "\n",
    "\"\"\"\n",
    "DON'T MODIFY ANYTHING IN THIS CELL THAT IS BELOW THIS LINE\n",
    "\"\"\"\n",
    "tests.test_con_pool(conv2d_maxpool)"
   ]
  },
  {
   "cell_type": "markdown",
   "metadata": {},
   "source": [
    "### Flatten Layer\n",
    "Implement the `flatten` function to change the dimension of `x_tensor` from a 4-D tensor to a 2-D tensor.  The output should be the shape (*Batch Size*, *Flattened Image Size*). Shortcut option: you can use classes from the [TensorFlow Layers](https://www.tensorflow.org/api_docs/python/tf/layers) or [TensorFlow Layers (contrib)](https://www.tensorflow.org/api_guides/python/contrib.layers) packages for this layer. For more of a challenge, only use other TensorFlow packages."
   ]
  },
  {
   "cell_type": "code",
   "execution_count": 335,
   "metadata": {},
   "outputs": [
    {
     "name": "stdout",
     "output_type": "stream",
     "text": [
      "flatten x_tensor.shape\n",
      "(?, 10, 30, 6)\n",
      "Tests Passed\n"
     ]
    }
   ],
   "source": [
    "def flatten(x_tensor):\n",
    "    \"\"\"\n",
    "    Flatten x_tensor to (Batch Size, Flattened Image Size)\n",
    "    : x_tensor: A tensor of size (Batch Size, ...), where ... are the image dimensions.\n",
    "    : return: A tensor of size (Batch Size, Flattened Image Size).\n",
    "    \"\"\"\n",
    "    # TODO: Implement Function\n",
    "    print('flatten x_tensor.shape')\n",
    "    print(x_tensor.shape)\n",
    "    #b_size = int(x_tensor.shape[0])\n",
    "    fla_img_size = int(x_tensor.shape[1]*x_tensor.shape[2]*(x_tensor.shape[3]))\n",
    "    #x_tensor = tf.placeholder(tf.float32, (x_tensor.shape[0],fla_img_size))\n",
    "    return  tf.reshape(x_tensor,[-1,fla_img_size])\n",
    "\n",
    "\n",
    "\"\"\"\n",
    "DON'T MODIFY ANYTHING IN THIS CELL THAT IS BELOW THIS LINE\n",
    "\"\"\"\n",
    "tests.test_flatten(flatten)"
   ]
  },
  {
   "cell_type": "markdown",
   "metadata": {},
   "source": [
    "### Fully-Connected Layer\n",
    "Implement the `fully_conn` function to apply a fully connected layer to `x_tensor` with the shape (*Batch Size*, *num_outputs*). Shortcut option: you can use classes from the [TensorFlow Layers](https://www.tensorflow.org/api_docs/python/tf/layers) or [TensorFlow Layers (contrib)](https://www.tensorflow.org/api_guides/python/contrib.layers) packages for this layer. For more of a challenge, only use other TensorFlow packages."
   ]
  },
  {
   "cell_type": "code",
   "execution_count": 358,
   "metadata": {},
   "outputs": [
    {
     "name": "stdout",
     "output_type": "stream",
     "text": [
      "fully_conn:x_tensor.shape\n",
      "(?, 128)\n",
      "Tests Passed\n"
     ]
    }
   ],
   "source": [
    "def fully_conn(x_tensor, num_outputs):\n",
    "    \"\"\"\n",
    "    Apply a fully connected layer to x_tensor using weight and bias\n",
    "    : x_tensor: A 2-D tensor where the first dimension is batch size.\n",
    "    : num_outputs: The number of output that the new tensor should be.\n",
    "    : return: A 2-D tensor where the second dimension is num_outputs.\n",
    "    \"\"\"\n",
    "    # TODO: Implement Function\n",
    "    print('fully_conn:x_tensor.shape')\n",
    "    print(x_tensor.shape)\n",
    "    input_n = int(x_tensor.shape[1])*num_outputs\n",
    "    ws = tf.Variable(tf.random_normal((int(x_tensor.shape[1]), num_outputs)) * math.sqrt(2/input_n))\n",
    "    bs = tf.Variable(tf.random_normal([num_outputs]))\n",
    "    x_tensor = tf.add(tf.matmul(x_tensor, ws), bs)\n",
    "    return tf.nn.relu(x_tensor)\n",
    "\n",
    "\n",
    "\"\"\"\n",
    "DON'T MODIFY ANYTHING IN THIS CELL THAT IS BELOW THIS LINE\n",
    "\"\"\"\n",
    "tests.test_fully_conn(fully_conn)"
   ]
  },
  {
   "cell_type": "markdown",
   "metadata": {},
   "source": [
    "### Output Layer\n",
    "Implement the `output` function to apply a fully connected layer to `x_tensor` with the shape (*Batch Size*, *num_outputs*). Shortcut option: you can use classes from the [TensorFlow Layers](https://www.tensorflow.org/api_docs/python/tf/layers) or [TensorFlow Layers (contrib)](https://www.tensorflow.org/api_guides/python/contrib.layers) packages for this layer. For more of a challenge, only use other TensorFlow packages.\n",
    "\n",
    "**Note:** Activation, softmax, or cross entropy should **not** be applied to this."
   ]
  },
  {
   "cell_type": "code",
   "execution_count": 359,
   "metadata": {},
   "outputs": [
    {
     "name": "stdout",
     "output_type": "stream",
     "text": [
      "output x_tensor.shape\n",
      "(?, 128)\n",
      "Tests Passed\n"
     ]
    }
   ],
   "source": [
    "def output(x_tensor, num_outputs):\n",
    "    \"\"\"\n",
    "    Apply a output layer to x_tensor using weight and bias\n",
    "    : x_tensor: A 2-D tensor where the first dimension is batch size.\n",
    "    : num_outputs: The number of output that the new tensor should be.\n",
    "    : return: A 2-D tensor where the second dimension is num_outputs.\n",
    "    \"\"\"\n",
    "    # TODO: Implement Function\n",
    "    print('output x_tensor.shape')\n",
    "    print(x_tensor.shape)\n",
    "    input_n = int(x_tensor.shape[1])*num_outputs\n",
    "    ws = tf.Variable(tf.random_normal((int(x_tensor.shape[1]), num_outputs))*math.sqrt(2/input_n))\n",
    "    bs = tf.Variable(tf.random_normal([num_outputs]))\n",
    "    x_tensor = tf.add(tf.matmul(x_tensor, ws), bs)\n",
    "    return x_tensor\n",
    "\n",
    "\n",
    "\"\"\"\n",
    "DON'T MODIFY ANYTHING IN THIS CELL THAT IS BELOW THIS LINE\n",
    "\"\"\"\n",
    "tests.test_output(output)"
   ]
  },
  {
   "cell_type": "markdown",
   "metadata": {},
   "source": [
    "### Create Convolutional Model\n",
    "Implement the function `conv_net` to create a convolutional neural network model. The function takes in a batch of images, `x`, and outputs logits.  Use the layers you created above to create this model:\n",
    "\n",
    "* Apply 1, 2, or 3 Convolution and Max Pool layers\n",
    "* Apply a Flatten Layer\n",
    "* Apply 1, 2, or 3 Fully Connected Layers\n",
    "* Apply an Output Layer\n",
    "* Return the output\n",
    "* Apply [TensorFlow's Dropout](https://www.tensorflow.org/api_docs/python/tf/nn/dropout) to one or more layers in the model using `keep_prob`. "
   ]
  },
  {
   "cell_type": "code",
   "execution_count": 360,
   "metadata": {},
   "outputs": [
    {
     "name": "stdout",
     "output_type": "stream",
     "text": [
      "conv2d_maxpool x_tensor shape:\n",
      "(?, 32, 32, 3)\n",
      "conv2d_maxpool x_tensor shape:\n",
      "(?, 16, 16, 64)\n",
      "flatten x_tensor.shape\n",
      "(?, 8, 8, 128)\n",
      "fully_conn:x_tensor.shape\n",
      "(?, 8192)\n",
      "output x_tensor.shape\n",
      "(?, 1024)\n",
      "conv2d_maxpool x_tensor shape:\n",
      "(?, 32, 32, 3)\n",
      "conv2d_maxpool x_tensor shape:\n",
      "(?, 16, 16, 64)\n",
      "flatten x_tensor.shape\n",
      "(?, 8, 8, 128)\n",
      "fully_conn:x_tensor.shape\n",
      "(?, 8192)\n",
      "output x_tensor.shape\n",
      "(?, 1024)\n",
      "Neural Network Built!\n"
     ]
    }
   ],
   "source": [
    "def conv_net(x, keep_prob):\n",
    "    \"\"\"\n",
    "    Create a convolutional neural network model\n",
    "    : x: Placeholder tensor that holds image data.\n",
    "    : keep_prob: Placeholder tensor that hold dropout keep probability.\n",
    "    : return: Tensor that represents logits\n",
    "    \"\"\"\n",
    "    # TODO: Apply 1, 2, or 3 Convolution and Max Pool layers\n",
    "    #    Play around with different number of outputs, kernel size and stride\n",
    "    # Function Definition from Above:\n",
    "    #    conv2d_maxpool(x_tensor, conv_num_outputs, conv_ksize, conv_strides, pool_ksize, pool_strides)\n",
    "    conv = conv2d_maxpool(x,64,(5,5),(1,1),(2,2),(2,2))\n",
    "    conv = conv2d_maxpool(conv,128,(3,3),(1,1),(3,3),(2,2))\n",
    "    \n",
    "    #conv = conv2d_maxpool(conv,128,(3,3),(1,1),(2,2),(2,2))\n",
    "    #conv = tf.nn.dropout(conv, keep_prob)\n",
    "    \n",
    "    # TODO: Apply a Flatten Layer\n",
    "    # Function Definition from Above:\n",
    "    #   flatten(x_tensor)\n",
    "    fla = flatten(conv)\n",
    "\n",
    "    # TODO: Apply 1, 2, or 3 Fully Connected Layers\n",
    "    #    Play around with different number of outputs\n",
    "    # Function Definition from Above:\n",
    "    #   fully_conn(x_tensor, num_outputs)\n",
    "    ful = fully_conn(fla,1024)\n",
    "    ful = tf.nn.dropout(ful, keep_prob)\n",
    "    \n",
    "    #ful = fully_conn(fla,256)\n",
    "    #ful = tf.nn.dropout(ful, keep_prob)\n",
    "    #ful = fully_conn(ful,32)\n",
    "    #ful = tf.nn.dropout(ful, keep_prob)\n",
    "    \n",
    "\n",
    "    # TODO: Apply an Output Layer\n",
    "    #    Set this to the number of classes\n",
    "    # Function Definition from Above:\n",
    "    #   output(x_tensor, num_outputs)\n",
    "    out = output(ful,10)\n",
    "    \n",
    "    # TODO: return output\n",
    "    return out\n",
    "\n",
    "\n",
    "\"\"\"\n",
    "DON'T MODIFY ANYTHING IN THIS CELL THAT IS BELOW THIS LINE\n",
    "\"\"\"\n",
    "\n",
    "##############################\n",
    "## Build the Neural Network ##\n",
    "##############################\n",
    "\n",
    "# Remove previous weights, bias, inputs, etc..\n",
    "tf.reset_default_graph()\n",
    "\n",
    "# Inputs\n",
    "x = neural_net_image_input((32, 32, 3))\n",
    "y = neural_net_label_input(10)\n",
    "keep_prob = neural_net_keep_prob_input()\n",
    "\n",
    "# Model\n",
    "logits = conv_net(x, keep_prob)\n",
    "\n",
    "# Name logits Tensor, so that is can be loaded from disk after training\n",
    "logits = tf.identity(logits, name='logits')\n",
    "\n",
    "# Loss and Optimizer\n",
    "cost = tf.reduce_mean(tf.nn.softmax_cross_entropy_with_logits(logits=logits, labels=y))\n",
    "optimizer = tf.train.AdamOptimizer().minimize(cost)\n",
    "\n",
    "\n",
    "# Accuracy\n",
    "correct_pred = tf.equal(tf.argmax(logits, 1), tf.argmax(y, 1))\n",
    "accuracy = tf.reduce_mean(tf.cast(correct_pred, tf.float32), name='accuracy')\n",
    "\n",
    "tests.test_conv_net(conv_net)"
   ]
  },
  {
   "cell_type": "markdown",
   "metadata": {},
   "source": [
    "## Train the Neural Network\n",
    "### Single Optimization\n",
    "Implement the function `train_neural_network` to do a single optimization.  The optimization should use `optimizer` to optimize in `session` with a `feed_dict` of the following:\n",
    "* `x` for image input\n",
    "* `y` for labels\n",
    "* `keep_prob` for keep probability for dropout\n",
    "\n",
    "This function will be called for each batch, so `tf.global_variables_initializer()` has already been called.\n",
    "\n",
    "Note: Nothing needs to be returned. This function is only optimizing the neural network."
   ]
  },
  {
   "cell_type": "code",
   "execution_count": 341,
   "metadata": {},
   "outputs": [
    {
     "name": "stdout",
     "output_type": "stream",
     "text": [
      "Tests Passed\n"
     ]
    }
   ],
   "source": [
    "def train_neural_network(session, optimizer, keep_probability, feature_batch, label_batch):\n",
    "    \"\"\"\n",
    "    Optimize the session on a batch of images and labels\n",
    "    : session: Current TensorFlow session\n",
    "    : optimizer: TensorFlow optimizer function\n",
    "    : keep_probability: keep probability\n",
    "    : feature_batch: Batch of Numpy image data\n",
    "    : label_batch: Batch of Numpy label data\n",
    "    \"\"\"\n",
    "    # TODO: Implement Function\n",
    "        \n",
    "    session.run(optimizer, feed_dict={\n",
    "        x: feature_batch,\n",
    "        y: label_batch,\n",
    "        keep_prob: keep_probability})\n",
    "\n",
    "\n",
    "\"\"\"\n",
    "DON'T MODIFY ANYTHING IN THIS CELL THAT IS BELOW THIS LINE\n",
    "\"\"\"\n",
    "tests.test_train_nn(train_neural_network)"
   ]
  },
  {
   "cell_type": "markdown",
   "metadata": {},
   "source": [
    "### Show Stats\n",
    "Implement the function `print_stats` to print loss and validation accuracy.  Use the global variables `valid_features` and `valid_labels` to calculate validation accuracy.  Use a keep probability of `1.0` to calculate the loss and validation accuracy."
   ]
  },
  {
   "cell_type": "code",
   "execution_count": 342,
   "metadata": {
    "collapsed": true
   },
   "outputs": [],
   "source": [
    "def print_stats(session, feature_batch, label_batch, cost, accuracy):\n",
    "    \"\"\"\n",
    "    Print information about loss and validation accuracy\n",
    "    : session: Current TensorFlow session\n",
    "    : feature_batch: Batch of Numpy image data\n",
    "    : label_batch: Batch of Numpy label data\n",
    "    : cost: TensorFlow cost function\n",
    "    : accuracy: TensorFlow accuracy function\n",
    "    \"\"\"\n",
    "    # TODO: Implement Function\n",
    "    # Calculate batch loss and accuracy\n",
    "    loss = sess.run(cost, feed_dict={\n",
    "                x: feature_batch,\n",
    "                y: label_batch,\n",
    "                keep_prob: 1.})\n",
    "    print('loss: {}'.format(loss))\n",
    "    valid_acc = sess.run(accuracy, feed_dict={\n",
    "                x: valid_features,\n",
    "                y: valid_labels,\n",
    "                keep_prob: 1.})\n",
    "    \n",
    "    print('valid Accuracy: {}'.format(valid_acc))\n",
    "    return valid_acc"
   ]
  },
  {
   "cell_type": "markdown",
   "metadata": {},
   "source": [
    "### Hyperparameters\n",
    "Tune the following parameters:\n",
    "* Set `epochs` to the number of iterations until the network stops learning or start overfitting\n",
    "* Set `batch_size` to the highest number that your machine has memory for.  Most people set them to common sizes of memory:\n",
    " * 64\n",
    " * 128\n",
    " * 256\n",
    " * ...\n",
    "* Set `keep_probability` to the probability of keeping a node using dropout"
   ]
  },
  {
   "cell_type": "code",
   "execution_count": 363,
   "metadata": {
    "collapsed": true
   },
   "outputs": [],
   "source": [
    "# TODO: Tune Parameters\n",
    "epochs = 20\n",
    "batch_size = 256\n",
    "keep_probability = .7\n"
   ]
  },
  {
   "cell_type": "markdown",
   "metadata": {},
   "source": [
    "### Train on a Single CIFAR-10 Batch\n",
    "Instead of training the neural network on all the CIFAR-10 batches of data, let's use a single batch. This should save time while you iterate on the model to get a better accuracy.  Once the final validation accuracy is 50% or greater, run the model on all the data in the next section."
   ]
  },
  {
   "cell_type": "code",
   "execution_count": 364,
   "metadata": {
    "scrolled": false
   },
   "outputs": [
    {
     "name": "stdout",
     "output_type": "stream",
     "text": [
      "Checking the Training on a Single Batch...\n",
      "Epoch  1, CIFAR-10 Batch 1:  loss: 2.2927405834198\n",
      "valid Accuracy: 0.09780000150203705\n",
      "Epoch  2, CIFAR-10 Batch 1:  loss: 2.1422231197357178\n",
      "valid Accuracy: 0.22619999945163727\n",
      "Epoch  3, CIFAR-10 Batch 1:  loss: 2.070082902908325\n",
      "valid Accuracy: 0.2874000072479248\n",
      "Epoch  4, CIFAR-10 Batch 1:  loss: 1.8288795948028564\n",
      "valid Accuracy: 0.3986000120639801\n",
      "Epoch  5, CIFAR-10 Batch 1:  loss: 1.6310272216796875\n",
      "valid Accuracy: 0.43479999899864197\n",
      "Epoch  6, CIFAR-10 Batch 1:  loss: 1.5183665752410889\n",
      "valid Accuracy: 0.4740000069141388\n",
      "Epoch  7, CIFAR-10 Batch 1:  loss: 1.3811390399932861\n",
      "valid Accuracy: 0.49219998717308044\n",
      "Epoch  8, CIFAR-10 Batch 1:  loss: 1.2526129484176636\n",
      "valid Accuracy: 0.5013999938964844\n",
      "Epoch  9, CIFAR-10 Batch 1:  loss: 1.1004098653793335\n",
      "valid Accuracy: 0.5134000182151794\n",
      "Epoch 10, CIFAR-10 Batch 1:  loss: 0.9896959066390991\n",
      "valid Accuracy: 0.5249999761581421\n",
      "Epoch 11, CIFAR-10 Batch 1:  loss: 0.8553509712219238\n",
      "valid Accuracy: 0.5307999849319458\n",
      "Epoch 12, CIFAR-10 Batch 1:  loss: 0.7523325681686401\n",
      "valid Accuracy: 0.5361999869346619\n",
      "Epoch 13, CIFAR-10 Batch 1:  loss: 0.6539503335952759\n",
      "valid Accuracy: 0.5375999808311462\n",
      "Epoch 14, CIFAR-10 Batch 1:  loss: 0.5527322888374329\n",
      "valid Accuracy: 0.5422000288963318\n",
      "Epoch 15, CIFAR-10 Batch 1:  loss: 0.4827134609222412\n",
      "valid Accuracy: 0.5648000240325928\n",
      "Epoch 16, CIFAR-10 Batch 1:  loss: 0.4191650450229645\n",
      "valid Accuracy: 0.5672000050544739\n",
      "Epoch 17, CIFAR-10 Batch 1:  loss: 0.3252093195915222\n",
      "valid Accuracy: 0.5705999732017517\n",
      "Epoch 18, CIFAR-10 Batch 1:  loss: 0.2422274351119995\n",
      "valid Accuracy: 0.5748000144958496\n",
      "Epoch 19, CIFAR-10 Batch 1:  loss: 0.21007513999938965\n",
      "valid Accuracy: 0.571399986743927\n",
      "Epoch 20, CIFAR-10 Batch 1:  loss: 0.1936606764793396\n",
      "valid Accuracy: 0.5555999875068665\n"
     ]
    }
   ],
   "source": [
    "\"\"\"\n",
    "DON'T MODIFY ANYTHING IN THIS CELL\n",
    "\"\"\"\n",
    "print('Checking the Training on a Single Batch...')\n",
    "with tf.Session() as sess:\n",
    "    # Initializing the variables\n",
    "    sess.run(tf.global_variables_initializer())\n",
    "    \n",
    "    # Training cycle\n",
    "    accs= []\n",
    "    for epoch in range(epochs):\n",
    "        batch_i = 1\n",
    "        for batch_features, batch_labels in helper.load_preprocess_training_batch(batch_i, batch_size):\n",
    "            train_neural_network(sess, optimizer, keep_probability, batch_features, batch_labels)\n",
    "        print('Epoch {:>2}, CIFAR-10 Batch {}:  '.format(epoch + 1, batch_i), end='')\n",
    "        acc = print_stats(sess, batch_features, batch_labels, cost, accuracy)\n",
    "        accs.append(acc)\n",
    "    "
   ]
  },
  {
   "cell_type": "markdown",
   "metadata": {},
   "source": [
    "### Fully Train the Model\n",
    "Now that you got a good accuracy with a single CIFAR-10 batch, try it with all five batches."
   ]
  },
  {
   "cell_type": "code",
   "execution_count": 365,
   "metadata": {
    "scrolled": true
   },
   "outputs": [
    {
     "name": "stdout",
     "output_type": "stream",
     "text": [
      "Training...\n",
      "Epoch  1, CIFAR-10 Batch 1:  loss: 2.1749653816223145\n",
      "valid Accuracy: 0.17579999566078186\n",
      "Epoch  1, CIFAR-10 Batch 2:  loss: 1.9286167621612549\n",
      "valid Accuracy: 0.3424000144004822\n",
      "Epoch  1, CIFAR-10 Batch 3:  loss: 1.5989187955856323\n",
      "valid Accuracy: 0.37299999594688416\n",
      "Epoch  1, CIFAR-10 Batch 4:  loss: 1.6610863208770752\n",
      "valid Accuracy: 0.42179998755455017\n",
      "Epoch  1, CIFAR-10 Batch 5:  loss: 1.5865495204925537\n",
      "valid Accuracy: 0.44119998812675476\n",
      "Epoch  2, CIFAR-10 Batch 1:  loss: 1.7162415981292725\n",
      "valid Accuracy: 0.4779999852180481\n",
      "Epoch  2, CIFAR-10 Batch 2:  loss: 1.5828919410705566\n",
      "valid Accuracy: 0.4438000023365021\n",
      "Epoch  2, CIFAR-10 Batch 3:  loss: 1.1291624307632446\n",
      "valid Accuracy: 0.47279998660087585\n",
      "Epoch  2, CIFAR-10 Batch 4:  loss: 1.3312815427780151\n",
      "valid Accuracy: 0.48919999599456787\n",
      "Epoch  2, CIFAR-10 Batch 5:  loss: 1.3024574518203735\n",
      "valid Accuracy: 0.5022000074386597\n",
      "Epoch  3, CIFAR-10 Batch 1:  loss: 1.4435546398162842\n",
      "valid Accuracy: 0.521399974822998\n",
      "Epoch  3, CIFAR-10 Batch 2:  loss: 1.3361151218414307\n",
      "valid Accuracy: 0.5228000283241272\n",
      "Epoch  3, CIFAR-10 Batch 3:  loss: 0.8947563171386719\n",
      "valid Accuracy: 0.5095999836921692\n",
      "Epoch  3, CIFAR-10 Batch 4:  loss: 1.1312655210494995\n",
      "valid Accuracy: 0.5246000289916992\n",
      "Epoch  3, CIFAR-10 Batch 5:  loss: 1.1270267963409424\n",
      "valid Accuracy: 0.5253999829292297\n",
      "Epoch  4, CIFAR-10 Batch 1:  loss: 1.2722320556640625\n",
      "valid Accuracy: 0.5565999746322632\n",
      "Epoch  4, CIFAR-10 Batch 2:  loss: 1.1417491436004639\n",
      "valid Accuracy: 0.5576000213623047\n",
      "Epoch  4, CIFAR-10 Batch 3:  loss: 0.7783194780349731\n",
      "valid Accuracy: 0.5389999747276306\n",
      "Epoch  4, CIFAR-10 Batch 4:  loss: 0.9582425951957703\n",
      "valid Accuracy: 0.5501999855041504\n",
      "Epoch  4, CIFAR-10 Batch 5:  loss: 0.928974986076355\n",
      "valid Accuracy: 0.5562000274658203\n",
      "Epoch  5, CIFAR-10 Batch 1:  loss: 1.0925372838974\n",
      "valid Accuracy: 0.5753999948501587\n",
      "Epoch  5, CIFAR-10 Batch 2:  loss: 1.0081108808517456\n",
      "valid Accuracy: 0.5756000280380249\n",
      "Epoch  5, CIFAR-10 Batch 3:  loss: 0.6912878751754761\n",
      "valid Accuracy: 0.5698000192642212\n",
      "Epoch  5, CIFAR-10 Batch 4:  loss: 0.8392307162284851\n",
      "valid Accuracy: 0.5716000199317932\n",
      "Epoch  5, CIFAR-10 Batch 5:  loss: 0.7836290597915649\n",
      "valid Accuracy: 0.5902000069618225\n",
      "Epoch  6, CIFAR-10 Batch 1:  loss: 0.9490669369697571\n",
      "valid Accuracy: 0.5911999940872192\n",
      "Epoch  6, CIFAR-10 Batch 2:  loss: 0.8774938583374023\n",
      "valid Accuracy: 0.5906000137329102\n",
      "Epoch  6, CIFAR-10 Batch 3:  loss: 0.6190525889396667\n",
      "valid Accuracy: 0.5861999988555908\n",
      "Epoch  6, CIFAR-10 Batch 4:  loss: 0.7347359657287598\n",
      "valid Accuracy: 0.5956000089645386\n",
      "Epoch  6, CIFAR-10 Batch 5:  loss: 0.6709436774253845\n",
      "valid Accuracy: 0.6029999852180481\n",
      "Epoch  7, CIFAR-10 Batch 1:  loss: 0.8075499534606934\n",
      "valid Accuracy: 0.6068000197410583\n",
      "Epoch  7, CIFAR-10 Batch 2:  loss: 0.7641347050666809\n",
      "valid Accuracy: 0.6010000109672546\n",
      "Epoch  7, CIFAR-10 Batch 3:  loss: 0.5368602275848389\n",
      "valid Accuracy: 0.6083999872207642\n",
      "Epoch  7, CIFAR-10 Batch 4:  loss: 0.6571630239486694\n",
      "valid Accuracy: 0.6055999994277954\n",
      "Epoch  7, CIFAR-10 Batch 5:  loss: 0.5781915187835693\n",
      "valid Accuracy: 0.6230000257492065\n",
      "Epoch  8, CIFAR-10 Batch 1:  loss: 0.6893132925033569\n",
      "valid Accuracy: 0.6151999831199646\n",
      "Epoch  8, CIFAR-10 Batch 2:  loss: 0.5936052799224854\n",
      "valid Accuracy: 0.6373999714851379\n",
      "Epoch  8, CIFAR-10 Batch 3:  loss: 0.4572041928768158\n",
      "valid Accuracy: 0.6168000102043152\n",
      "Epoch  8, CIFAR-10 Batch 4:  loss: 0.5913933515548706\n",
      "valid Accuracy: 0.6230000257492065\n",
      "Epoch  8, CIFAR-10 Batch 5:  loss: 0.5005601644515991\n",
      "valid Accuracy: 0.6402000188827515\n",
      "Epoch  9, CIFAR-10 Batch 1:  loss: 0.570970892906189\n",
      "valid Accuracy: 0.6182000041007996\n",
      "Epoch  9, CIFAR-10 Batch 2:  loss: 0.5053102374076843\n",
      "valid Accuracy: 0.6389999985694885\n",
      "Epoch  9, CIFAR-10 Batch 3:  loss: 0.40130409598350525\n",
      "valid Accuracy: 0.6241999864578247\n",
      "Epoch  9, CIFAR-10 Batch 4:  loss: 0.528106689453125\n",
      "valid Accuracy: 0.6385999917984009\n",
      "Epoch  9, CIFAR-10 Batch 5:  loss: 0.41795986890792847\n",
      "valid Accuracy: 0.6474000215530396\n",
      "Epoch 10, CIFAR-10 Batch 1:  loss: 0.48976436257362366\n",
      "valid Accuracy: 0.6355999708175659\n",
      "Epoch 10, CIFAR-10 Batch 2:  loss: 0.43803539872169495\n",
      "valid Accuracy: 0.6312000155448914\n",
      "Epoch 10, CIFAR-10 Batch 3:  loss: 0.3328067660331726\n",
      "valid Accuracy: 0.647599995136261\n",
      "Epoch 10, CIFAR-10 Batch 4:  loss: 0.476839154958725\n",
      "valid Accuracy: 0.6470000147819519\n",
      "Epoch 10, CIFAR-10 Batch 5:  loss: 0.36684876680374146\n",
      "valid Accuracy: 0.6503999829292297\n",
      "Epoch 11, CIFAR-10 Batch 1:  loss: 0.42633765935897827\n",
      "valid Accuracy: 0.6431999802589417\n",
      "Epoch 11, CIFAR-10 Batch 2:  loss: 0.35241344571113586\n",
      "valid Accuracy: 0.6308000087738037\n",
      "Epoch 11, CIFAR-10 Batch 3:  loss: 0.27787351608276367\n",
      "valid Accuracy: 0.6606000065803528\n",
      "Epoch 11, CIFAR-10 Batch 4:  loss: 0.36495882272720337\n",
      "valid Accuracy: 0.6647999882698059\n",
      "Epoch 11, CIFAR-10 Batch 5:  loss: 0.2828158736228943\n",
      "valid Accuracy: 0.6618000268936157\n",
      "Epoch 12, CIFAR-10 Batch 1:  loss: 0.34850430488586426\n",
      "valid Accuracy: 0.6521999835968018\n",
      "Epoch 12, CIFAR-10 Batch 2:  loss: 0.26462697982788086\n",
      "valid Accuracy: 0.6503999829292297\n",
      "Epoch 12, CIFAR-10 Batch 3:  loss: 0.22659769654273987\n",
      "valid Accuracy: 0.6687999963760376\n",
      "Epoch 12, CIFAR-10 Batch 4:  loss: 0.34419089555740356\n",
      "valid Accuracy: 0.6661999821662903\n",
      "Epoch 12, CIFAR-10 Batch 5:  loss: 0.24846510589122772\n",
      "valid Accuracy: 0.6651999950408936\n",
      "Epoch 13, CIFAR-10 Batch 1:  loss: 0.3207126557826996\n",
      "valid Accuracy: 0.6535999774932861\n",
      "Epoch 13, CIFAR-10 Batch 2:  loss: 0.22507242858409882\n",
      "valid Accuracy: 0.6705999970436096\n",
      "Epoch 13, CIFAR-10 Batch 3:  loss: 0.20073381066322327\n",
      "valid Accuracy: 0.6690000295639038\n",
      "Epoch 13, CIFAR-10 Batch 4:  loss: 0.2540207505226135\n",
      "valid Accuracy: 0.6736000180244446\n",
      "Epoch 13, CIFAR-10 Batch 5:  loss: 0.21673652529716492\n",
      "valid Accuracy: 0.6711999773979187\n",
      "Epoch 14, CIFAR-10 Batch 1:  loss: 0.24118861556053162\n",
      "valid Accuracy: 0.6654000282287598\n",
      "Epoch 14, CIFAR-10 Batch 2:  loss: 0.1897028088569641\n",
      "valid Accuracy: 0.6779999732971191\n",
      "Epoch 14, CIFAR-10 Batch 3:  loss: 0.17937619984149933\n",
      "valid Accuracy: 0.6783999800682068\n",
      "Epoch 14, CIFAR-10 Batch 4:  loss: 0.2296745777130127\n",
      "valid Accuracy: 0.675000011920929\n",
      "Epoch 14, CIFAR-10 Batch 5:  loss: 0.16927304863929749\n",
      "valid Accuracy: 0.6759999990463257\n",
      "Epoch 15, CIFAR-10 Batch 1:  loss: 0.22507981956005096\n",
      "valid Accuracy: 0.6782000064849854\n",
      "Epoch 15, CIFAR-10 Batch 2:  loss: 0.17817158997058868\n",
      "valid Accuracy: 0.6787999868392944\n",
      "Epoch 15, CIFAR-10 Batch 3:  loss: 0.14956510066986084\n",
      "valid Accuracy: 0.6890000104904175\n",
      "Epoch 15, CIFAR-10 Batch 4:  loss: 0.16761809587478638\n",
      "valid Accuracy: 0.6815999746322632\n",
      "Epoch 15, CIFAR-10 Batch 5:  loss: 0.1438460797071457\n",
      "valid Accuracy: 0.6845999956130981\n",
      "Epoch 16, CIFAR-10 Batch 1:  loss: 0.19559608399868011\n",
      "valid Accuracy: 0.6710000038146973\n",
      "Epoch 16, CIFAR-10 Batch 2:  loss: 0.12265072017908096\n",
      "valid Accuracy: 0.6909999847412109\n",
      "Epoch 16, CIFAR-10 Batch 3:  loss: 0.1291697472333908\n",
      "valid Accuracy: 0.6797999739646912\n",
      "Epoch 16, CIFAR-10 Batch 4:  loss: 0.15311802923679352\n",
      "valid Accuracy: 0.6887999773025513\n",
      "Epoch 16, CIFAR-10 Batch 5:  loss: 0.11475257575511932\n",
      "valid Accuracy: 0.6787999868392944\n",
      "Epoch 17, CIFAR-10 Batch 1:  loss: 0.168186753988266\n",
      "valid Accuracy: 0.6881999969482422\n",
      "Epoch 17, CIFAR-10 Batch 2:  loss: 0.10233338177204132\n",
      "valid Accuracy: 0.6934000253677368\n",
      "Epoch 17, CIFAR-10 Batch 3:  loss: 0.12324066460132599\n",
      "valid Accuracy: 0.6818000078201294\n",
      "Epoch 17, CIFAR-10 Batch 4:  loss: 0.12641145288944244\n",
      "valid Accuracy: 0.6872000098228455\n",
      "Epoch 17, CIFAR-10 Batch 5:  loss: 0.10856330394744873\n",
      "valid Accuracy: 0.6840000152587891\n",
      "Epoch 18, CIFAR-10 Batch 1:  loss: 0.1258443146944046\n",
      "valid Accuracy: 0.6841999888420105\n",
      "Epoch 18, CIFAR-10 Batch 2:  loss: 0.0839436799287796\n",
      "valid Accuracy: 0.6819999814033508\n",
      "Epoch 18, CIFAR-10 Batch 3:  loss: 0.09669311344623566\n",
      "valid Accuracy: 0.6935999989509583\n",
      "Epoch 18, CIFAR-10 Batch 4:  loss: 0.11975975334644318\n",
      "valid Accuracy: 0.6758000254631042\n",
      "Epoch 18, CIFAR-10 Batch 5:  loss: 0.10092711448669434\n",
      "valid Accuracy: 0.6926000118255615\n",
      "Epoch 19, CIFAR-10 Batch 1:  loss: 0.12761859595775604\n",
      "valid Accuracy: 0.6858000159263611\n",
      "Epoch 19, CIFAR-10 Batch 2:  loss: 0.10279889404773712\n"
     ]
    },
    {
     "name": "stdout",
     "output_type": "stream",
     "text": [
      "valid Accuracy: 0.6819999814033508\n",
      "Epoch 19, CIFAR-10 Batch 3:  loss: 0.11210949718952179\n",
      "valid Accuracy: 0.6976000070571899\n",
      "Epoch 19, CIFAR-10 Batch 4:  loss: 0.08970747143030167\n",
      "valid Accuracy: 0.6841999888420105\n",
      "Epoch 19, CIFAR-10 Batch 5:  loss: 0.07543819397687912\n",
      "valid Accuracy: 0.6952000260353088\n",
      "Epoch 20, CIFAR-10 Batch 1:  loss: 0.0895976722240448\n",
      "valid Accuracy: 0.6908000111579895\n",
      "Epoch 20, CIFAR-10 Batch 2:  loss: 0.09798111021518707\n",
      "valid Accuracy: 0.6779999732971191\n",
      "Epoch 20, CIFAR-10 Batch 3:  loss: 0.11056303977966309\n",
      "valid Accuracy: 0.6949999928474426\n",
      "Epoch 20, CIFAR-10 Batch 4:  loss: 0.07727698981761932\n",
      "valid Accuracy: 0.6809999942779541\n",
      "Epoch 20, CIFAR-10 Batch 5:  loss: 0.07399753481149673\n",
      "valid Accuracy: 0.6836000084877014\n"
     ]
    }
   ],
   "source": [
    "\"\"\"\n",
    "DON'T MODIFY ANYTHING IN THIS CELL\n",
    "\"\"\"\n",
    "save_model_path = './image_classification'\n",
    "\n",
    "print('Training...')\n",
    "with tf.Session() as sess:\n",
    "    # Initializing the variables\n",
    "    sess.run(tf.global_variables_initializer())\n",
    "    \n",
    "    # Training cycle\n",
    "    for epoch in range(epochs):\n",
    "        # Loop over all batches\n",
    "        n_batches = 5\n",
    "        for batch_i in range(1, n_batches + 1):\n",
    "            for batch_features, batch_labels in helper.load_preprocess_training_batch(batch_i, batch_size):\n",
    "                train_neural_network(sess, optimizer, keep_probability, batch_features, batch_labels)\n",
    "            print('Epoch {:>2}, CIFAR-10 Batch {}:  '.format(epoch + 1, batch_i), end='')\n",
    "            print_stats(sess, batch_features, batch_labels, cost, accuracy)\n",
    "            \n",
    "    # Save Model\n",
    "    saver = tf.train.Saver()\n",
    "    save_path = saver.save(sess, save_model_path)"
   ]
  },
  {
   "cell_type": "markdown",
   "metadata": {},
   "source": [
    "# Checkpoint\n",
    "The model has been saved to disk.\n",
    "## Test Model\n",
    "Test your model against the test dataset.  This will be your final accuracy. You should have an accuracy greater than 50%. If you don't, keep tweaking the model architecture and parameters."
   ]
  },
  {
   "cell_type": "code",
   "execution_count": 366,
   "metadata": {},
   "outputs": [
    {
     "name": "stdout",
     "output_type": "stream",
     "text": [
      "INFO:tensorflow:Restoring parameters from ./image_classification\n",
      "Testing Accuracy: 0.675\n",
      "\n"
     ]
    },
    {
     "data": {
      "image/png": "[encoded data removed]",
      "text/plain": [
       "<matplotlib.figure.Figure at 0x1200da7b8>"
      ]
     },
     "metadata": {
      "image/png": {
       "height": 319,
       "width": 355
      }
     },
     "output_type": "display_data"
    }
   ],
   "source": [
    "\"\"\"\n",
    "DON'T MODIFY ANYTHING IN THIS CELL\n",
    "\"\"\"\n",
    "%matplotlib inline\n",
    "%config InlineBackend.figure_format = 'retina'\n",
    "\n",
    "import tensorflow as tf\n",
    "import pickle\n",
    "import helper\n",
    "import random\n",
    "\n",
    "# Set batch size if not already set\n",
    "try:\n",
    "    if batch_size:\n",
    "        pass\n",
    "except NameError:\n",
    "    batch_size = 64\n",
    "\n",
    "save_model_path = './image_classification'\n",
    "n_samples = 4\n",
    "top_n_predictions = 3\n",
    "\n",
    "def test_model():\n",
    "    \"\"\"\n",
    "    Test the saved model against the test dataset\n",
    "    \"\"\"\n",
    "\n",
    "    test_features, test_labels = pickle.load(open('preprocess_training.p', mode='rb'))\n",
    "    loaded_graph = tf.Graph()\n",
    "\n",
    "    with tf.Session(graph=loaded_graph) as sess:\n",
    "        # Load model\n",
    "        loader = tf.train.import_meta_graph(save_model_path + '.meta')\n",
    "        loader.restore(sess, save_model_path)\n",
    "\n",
    "        # Get Tensors from loaded model\n",
    "        loaded_x = loaded_graph.get_tensor_by_name('x:0')\n",
    "        loaded_y = loaded_graph.get_tensor_by_name('y:0')\n",
    "        loaded_keep_prob = loaded_graph.get_tensor_by_name('keep_prob:0')\n",
    "        loaded_logits = loaded_graph.get_tensor_by_name('logits:0')\n",
    "        loaded_acc = loaded_graph.get_tensor_by_name('accuracy:0')\n",
    "        \n",
    "        # Get accuracy in batches for memory limitations\n",
    "        test_batch_acc_total = 0\n",
    "        test_batch_count = 0\n",
    "        \n",
    "        for train_feature_batch, train_label_batch in helper.batch_features_labels(test_features, test_labels, batch_size):\n",
    "            test_batch_acc_total += sess.run(\n",
    "                loaded_acc,\n",
    "                feed_dict={loaded_x: train_feature_batch, loaded_y: train_label_batch, loaded_keep_prob: 1.0})\n",
    "            test_batch_count += 1\n",
    "\n",
    "        print('Testing Accuracy: {}\\n'.format(test_batch_acc_total/test_batch_count))\n",
    "\n",
    "        # Print Random Samples\n",
    "        random_test_features, random_test_labels = tuple(zip(*random.sample(list(zip(test_features, test_labels)), n_samples)))\n",
    "        random_test_predictions = sess.run(\n",
    "            tf.nn.top_k(tf.nn.softmax(loaded_logits), top_n_predictions),\n",
    "            feed_dict={loaded_x: random_test_features, loaded_y: random_test_labels, loaded_keep_prob: 1.0})\n",
    "        helper.display_image_predictions(random_test_features, random_test_labels, random_test_predictions)\n",
    "\n",
    "\n",
    "test_model()"
   ]
  },
  {
   "cell_type": "markdown",
   "metadata": {},
   "source": [
    "## Why 50-80% Accuracy?\n",
    "You might be wondering why you can't get an accuracy any higher. First things first, 50% isn't bad for a simple CNN.  Pure guessing would get you 10% accuracy. That's because there are many more techniques that can be applied to your model and we recemmond that once you are done with this project, you explore!\n",
    "\n",
    "## Submitting This Project\n",
    "When submitting this project, make sure to run all the cells before saving the notebook.  Save the notebook file as \"image_classification.ipynb\" and save it as a HTML file under \"File\" -> \"Download as\".  Include the \"helper.py\" and \"problem_unittests.py\" files in your submission."
   ]
  }
 ],
 "metadata": {
  "kernelspec": {
   "display_name": "Python 3",
   "language": "python",
   "name": "python3"
  },
  "language_info": {
   "codemirror_mode": {
    "name": "ipython",
    "version": 3
   },
   "file_extension": ".py",
   "mimetype": "text/x-python",
   "name": "python",
   "nbconvert_exporter": "python",
   "pygments_lexer": "ipython3",
   "version": "3.6.2"
  }
 },
 "nbformat": 4,
 "nbformat_minor": 1
}
