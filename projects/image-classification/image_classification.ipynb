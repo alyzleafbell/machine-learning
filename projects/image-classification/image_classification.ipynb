{
 "cells": [
  {
   "cell_type": "markdown",
   "metadata": {
    "collapsed": true
   },
   "source": [
    "# Image Classification\n",
    "In this project, you'll classify images from the [CIFAR-10 dataset](https://www.cs.toronto.edu/~kriz/cifar.html).  The dataset consists of airplanes, dogs, cats, and other objects. You'll preprocess the images, then train a convolutional neural network on all the samples. The images need to be normalized and the labels need to be one-hot encoded.  You'll get to apply what you learned and build a convolutional, max pooling, dropout, and fully connected layers.  At the end, you'll get to see your neural network's predictions on the sample images.\n",
    "## Get the Data\n",
    "Run the following cell to download the [CIFAR-10 dataset for python](https://www.cs.toronto.edu/~kriz/cifar-10-python.tar.gz)."
   ]
  },
  {
   "cell_type": "code",
   "execution_count": 303,
   "metadata": {},
   "outputs": [
    {
     "name": "stderr",
     "output_type": "stream",
     "text": [
      "CIFAR-10 Dataset: 171MB [02:18, 1.23MB/s]                               \n"
     ]
    },
    {
     "name": "stdout",
     "output_type": "stream",
     "text": [
      "All files found!\n"
     ]
    }
   ],
   "source": [
    "\"\"\"\n",
    "DON'T MODIFY ANYTHING IN THIS CELL THAT IS BELOW THIS LINE\n",
    "\"\"\"\n",
    "from urllib.request import urlretrieve\n",
    "from os.path import isfile, isdir\n",
    "from tqdm import tqdm\n",
    "import problem_unittests as tests\n",
    "import tarfile\n",
    "\n",
    "cifar10_dataset_folder_path = 'cifar-10-batches-py'\n",
    "\n",
    "class DLProgress(tqdm):\n",
    "    last_block = 0\n",
    "\n",
    "    def hook(self, block_num=1, block_size=1, total_size=None):\n",
    "        self.total = total_size\n",
    "        self.update((block_num - self.last_block) * block_size)\n",
    "        self.last_block = block_num\n",
    "\n",
    "if not isfile('cifar-10-python.tar.gz'):\n",
    "    with DLProgress(unit='B', unit_scale=True, miniters=1, desc='CIFAR-10 Dataset') as pbar:\n",
    "        urlretrieve(\n",
    "            'https://www.cs.toronto.edu/~kriz/cifar-10-python.tar.gz',\n",
    "            'cifar-10-python.tar.gz',\n",
    "            pbar.hook)\n",
    "\n",
    "if not isdir(cifar10_dataset_folder_path):\n",
    "    with tarfile.open('cifar-10-python.tar.gz') as tar:\n",
    "        tar.extractall()\n",
    "        tar.close()\n",
    "\n",
    "\n",
    "tests.test_folder_path(cifar10_dataset_folder_path)"
   ]
  },
  {
   "cell_type": "markdown",
   "metadata": {},
   "source": [
    "## Explore the Data\n",
    "The dataset is broken into batches to prevent your machine from running out of memory.  The CIFAR-10 dataset consists of 5 batches, named `data_batch_1`, `data_batch_2`, etc.. Each batch contains the labels and images that are one of the following:\n",
    "* airplane\n",
    "* automobile\n",
    "* bird\n",
    "* cat\n",
    "* deer\n",
    "* dog\n",
    "* frog\n",
    "* horse\n",
    "* ship\n",
    "* truck\n",
    "\n",
    "Understanding a dataset is part of making predictions on the data.  Play around with the code cell below by changing the `batch_id` and `sample_id`. The `batch_id` is the id for a batch (1-5). The `sample_id` is the id for a image and label pair in the batch.\n",
    "\n",
    "Ask yourself \"What are all possible labels?\", \"What is the range of values for the image data?\", \"Are the labels in order or random?\".  Answers to questions like these will help you preprocess the data and end up with better predictions."
   ]
  },
  {
   "cell_type": "code",
   "execution_count": 304,
   "metadata": {},
   "outputs": [
    {
     "name": "stdout",
     "output_type": "stream",
     "text": [
      "\n",
      "Stats of batch 1:\n",
      "Samples: 10000\n",
      "Label Counts: {0: 1005, 1: 974, 2: 1032, 3: 1016, 4: 999, 5: 937, 6: 1030, 7: 1001, 8: 1025, 9: 981}\n",
      "First 20 Labels: [6, 9, 9, 4, 1, 1, 2, 7, 8, 3, 4, 7, 7, 2, 9, 9, 9, 3, 2, 6]\n",
      "\n",
      "Example of Image 50:\n",
      "Image - Min Value: 8 Max Value: 243\n",
      "Image - Shape: (32, 32, 3)\n",
      "Label - Label Id: 9 Name: truck\n"
     ]
    },
    {
     "data": {
      "image/png": "[encoded data removed]",
      "text/plain": [
       "<matplotlib.figure.Figure at 0x11e6ddcf8>"
      ]
     },
     "metadata": {
      "image/png": {
       "height": 250,
       "width": 253
      }
     },
     "output_type": "display_data"
    }
   ],
   "source": [
    "%matplotlib inline\n",
    "%config InlineBackend.figure_format = 'retina'\n",
    "\n",
    "import helper\n",
    "import numpy as np\n",
    "\n",
    "# Explore the dataset\n",
    "batch_id = 1\n",
    "sample_id = 50\n",
    "helper.display_stats(cifar10_dataset_folder_path, batch_id, sample_id)"
   ]
  },
  {
   "cell_type": "markdown",
   "metadata": {},
   "source": [
    "## Implement Preprocess Functions\n",
    "### Normalize\n",
    "In the cell below, implement the `normalize` function to take in image data, `x`, and return it as a normalized Numpy array. The values should be in the range of 0 to 1, inclusive.  The return object should be the same shape as `x`."
   ]
  },
  {
   "cell_type": "code",
   "execution_count": 305,
   "metadata": {},
   "outputs": [
    {
     "name": "stdout",
     "output_type": "stream",
     "text": [
      "Tests Passed\n"
     ]
    }
   ],
   "source": [
    "def normalize(x):\n",
    "    \"\"\"\n",
    "    Normalize a list of sample image data in the range of 0 to 1\n",
    "    : x: List of image data.  The image shape is (32, 32, 3)\n",
    "    : return: Numpy array of normalize data\n",
    "    \"\"\"\n",
    "    # TODO: Implement Function\n",
    "    max,min = x.max(),x.min()\n",
    "    x = (x-min)/(max-min)\n",
    "    \n",
    "    return x\n",
    "\n",
    "\n",
    "\"\"\"\n",
    "DON'T MODIFY ANYTHING IN THIS CELL THAT IS BELOW THIS LINE\n",
    "\"\"\"\n",
    "tests.test_normalize(normalize)"
   ]
  },
  {
   "cell_type": "markdown",
   "metadata": {},
   "source": [
    "### One-hot encode\n",
    "Just like the previous code cell, you'll be implementing a function for preprocessing.  This time, you'll implement the `one_hot_encode` function. The input, `x`, are a list of labels.  Implement the function to return the list of labels as One-Hot encoded Numpy array.  The possible values for labels are 0 to 9. The one-hot encoding function should return the same encoding for each value between each call to `one_hot_encode`.  Make sure to save the map of encodings outside the function.\n",
    "\n",
    "**Hint:**\n",
    "\n",
    "Look into LabelBinarizer in the preprocessing module of sklearn."
   ]
  },
  {
   "cell_type": "code",
   "execution_count": 306,
   "metadata": {},
   "outputs": [
    {
     "name": "stdout",
     "output_type": "stream",
     "text": [
      "Tests Passed\n"
     ]
    }
   ],
   "source": [
    "def one_hot_encode(x):\n",
    "    \"\"\"\n",
    "    One hot encode a list of sample labels. Return a one-hot encoded vector for each label.\n",
    "    : x: List of sample Labels\n",
    "    : return: Numpy array of one-hot encoded labels\n",
    "    \"\"\"\n",
    "    # TODO: Implement Function\n",
    "    onehot = np.zeros((len(x),10),dtype=np.int8)\n",
    "    for i in range(0,len(x)):\n",
    "        onehot[i,x[i]]=1\n",
    "\n",
    "    return onehot\n",
    "\n",
    "\n",
    "\"\"\"\n",
    "DON'T MODIFY ANYTHING IN THIS CELL THAT IS BELOW THIS LINE\n",
    "\"\"\"\n",
    "tests.test_one_hot_encode(one_hot_encode)"
   ]
  },
  {
   "cell_type": "markdown",
   "metadata": {},
   "source": [
    "### Randomize Data\n",
    "As you saw from exploring the data above, the order of the samples are randomized.  It doesn't hurt to randomize it again, but you don't need to for this dataset."
   ]
  },
  {
   "cell_type": "markdown",
   "metadata": {},
   "source": [
    "## Preprocess all the data and save it\n",
    "Running the code cell below will preprocess all the CIFAR-10 data and save it to file. The code below also uses 10% of the training data for validation."
   ]
  },
  {
   "cell_type": "code",
   "execution_count": 307,
   "metadata": {},
   "outputs": [],
   "source": [
    "\"\"\"\n",
    "DON'T MODIFY ANYTHING IN THIS CELL\n",
    "\"\"\"\n",
    "# Preprocess Training, Validation, and Testing Data\n",
    "helper.preprocess_and_save_data(cifar10_dataset_folder_path, normalize, one_hot_encode)"
   ]
  },
  {
   "cell_type": "markdown",
   "metadata": {},
   "source": [
    "# Check Point\n",
    "This is your first checkpoint.  If you ever decide to come back to this notebook or have to restart the notebook, you can start from here.  The preprocessed data has been saved to disk."
   ]
  },
  {
   "cell_type": "code",
   "execution_count": 308,
   "metadata": {
    "collapsed": true
   },
   "outputs": [],
   "source": [
    "\"\"\"\n",
    "DON'T MODIFY ANYTHING IN THIS CELL\n",
    "\"\"\"\n",
    "import pickle\n",
    "import problem_unittests as tests\n",
    "import helper\n",
    "\n",
    "# Load the Preprocessed Validation data\n",
    "valid_features, valid_labels = pickle.load(open('preprocess_validation.p', mode='rb'))"
   ]
  },
  {
   "cell_type": "markdown",
   "metadata": {},
   "source": [
    "## Build the network\n",
    "For the neural network, you'll build each layer into a function.  Most of the code you've seen has been outside of functions. To test your code more thoroughly, we require that you put each layer in a function.  This allows us to give you better feedback and test for simple mistakes using our unittests before you submit your project.\n",
    "\n",
    ">**Note:** If you're finding it hard to dedicate enough time for this course each week, we've provided a small shortcut to this part of the project. In the next couple of problems, you'll have the option to use classes from the [TensorFlow Layers](https://www.tensorflow.org/api_docs/python/tf/layers) or [TensorFlow Layers (contrib)](https://www.tensorflow.org/api_guides/python/contrib.layers) packages to build each layer, except the layers you build in the \"Convolutional and Max Pooling Layer\" section.  TF Layers is similar to Keras's and TFLearn's abstraction to layers, so it's easy to pickup.\n",
    "\n",
    ">However, if you would like to get the most out of this course, try to solve all the problems _without_ using anything from the TF Layers packages. You **can** still use classes from other packages that happen to have the same name as ones you find in TF Layers! For example, instead of using the TF Layers version of the `conv2d` class, [tf.layers.conv2d](https://www.tensorflow.org/api_docs/python/tf/layers/conv2d), you would want to use the TF Neural Network version of `conv2d`, [tf.nn.conv2d](https://www.tensorflow.org/api_docs/python/tf/nn/conv2d). \n",
    "\n",
    "Let's begin!\n",
    "\n",
    "### Input\n",
    "The neural network needs to read the image data, one-hot encoded labels, and dropout keep probability. Implement the following functions\n",
    "* Implement `neural_net_image_input`\n",
    " * Return a [TF Placeholder](https://www.tensorflow.org/api_docs/python/tf/placeholder)\n",
    " * Set the shape using `image_shape` with batch size set to `None`.\n",
    " * Name the TensorFlow placeholder \"x\" using the TensorFlow `name` parameter in the [TF Placeholder](https://www.tensorflow.org/api_docs/python/tf/placeholder).\n",
    "* Implement `neural_net_label_input`\n",
    " * Return a [TF Placeholder](https://www.tensorflow.org/api_docs/python/tf/placeholder)\n",
    " * Set the shape using `n_classes` with batch size set to `None`.\n",
    " * Name the TensorFlow placeholder \"y\" using the TensorFlow `name` parameter in the [TF Placeholder](https://www.tensorflow.org/api_docs/python/tf/placeholder).\n",
    "* Implement `neural_net_keep_prob_input`\n",
    " * Return a [TF Placeholder](https://www.tensorflow.org/api_docs/python/tf/placeholder) for dropout keep probability.\n",
    " * Name the TensorFlow placeholder \"keep_prob\" using the TensorFlow `name` parameter in the [TF Placeholder](https://www.tensorflow.org/api_docs/python/tf/placeholder).\n",
    "\n",
    "These names will be used at the end of the project to load your saved model.\n",
    "\n",
    "Note: `None` for shapes in TensorFlow allow for a dynamic size."
   ]
  },
  {
   "cell_type": "code",
   "execution_count": 309,
   "metadata": {},
   "outputs": [
    {
     "name": "stdout",
     "output_type": "stream",
     "text": [
      "Image Input Tests Passed.\n",
      "Label Input Tests Passed.\n",
      "Keep Prob Tests Passed.\n"
     ]
    }
   ],
   "source": [
    "import tensorflow as tf\n",
    "\n",
    "def neural_net_image_input(image_shape):\n",
    "    \"\"\"\n",
    "    Return a Tensor for a batch of image input\n",
    "    : image_shape: Shape of the images\n",
    "    : return: Tensor for image input.\n",
    "    \"\"\"\n",
    "\n",
    "    # TODO: Implement Function\n",
    "    return tf.placeholder(tf.float32, list((None,)+(image_shape)),name='x')\n",
    "\n",
    "\n",
    "def neural_net_label_input(n_classes):\n",
    "    \"\"\"\n",
    "    Return a Tensor for a batch of label input\n",
    "    : n_classes: Number of classes\n",
    "    : return: Tensor for label input.\n",
    "    \"\"\"\n",
    "    # TODO: Implement Function\n",
    "    return tf.placeholder(tf.float32, [None, n_classes],name='y')\n",
    "\n",
    "\n",
    "def neural_net_keep_prob_input():\n",
    "    \"\"\"\n",
    "    Return a Tensor for keep probability\n",
    "    : return: Tensor for keep probability.\n",
    "    \"\"\"\n",
    "    # TODO: Implement Function\n",
    "    return tf.placeholder(tf.float32,name='keep_prob')\n",
    "\n",
    "\n",
    "\"\"\"\n",
    "DON'T MODIFY ANYTHING IN THIS CELL THAT IS BELOW THIS LINE\n",
    "\"\"\"\n",
    "tf.reset_default_graph()\n",
    "tests.test_nn_image_inputs(neural_net_image_input)\n",
    "tests.test_nn_label_inputs(neural_net_label_input)\n",
    "tests.test_nn_keep_prob_inputs(neural_net_keep_prob_input)"
   ]
  },
  {
   "cell_type": "markdown",
   "metadata": {},
   "source": [
    "### Convolution and Max Pooling Layer\n",
    "Convolution layers have a lot of success with images. For this code cell, you should implement the function `conv2d_maxpool` to apply convolution then max pooling:\n",
    "* Create the weight and bias using `conv_ksize`, `conv_num_outputs` and the shape of `x_tensor`.\n",
    "* Apply a convolution to `x_tensor` using weight and `conv_strides`.\n",
    " * We recommend you use same padding, but you're welcome to use any padding.\n",
    "* Add bias\n",
    "* Add a nonlinear activation to the convolution.\n",
    "* Apply Max Pooling using `pool_ksize` and `pool_strides`.\n",
    " * We recommend you use same padding, but you're welcome to use any padding.\n",
    "\n",
    "**Note:** You **can't** use [TensorFlow Layers](https://www.tensorflow.org/api_docs/python/tf/layers) or [TensorFlow Layers (contrib)](https://www.tensorflow.org/api_guides/python/contrib.layers) for **this** layer, but you can still use TensorFlow's [Neural Network](https://www.tensorflow.org/api_docs/python/tf/nn) package. You may still use the shortcut option for all the **other** layers.\n",
    "\n",
    "** Hint: **\n",
    "\n",
    "When unpacking values as an argument in Python, look into the [unpacking](https://docs.python.org/3/tutorial/controlflow.html#unpacking-argument-lists) operator. "
   ]
  },
  {
   "cell_type": "code",
   "execution_count": 310,
   "metadata": {},
   "outputs": [
    {
     "name": "stdout",
     "output_type": "stream",
     "text": [
      "conv2d_maxpool x_tensor shape:\n",
      "(?, 32, 32, 5)\n",
      "Tests Passed\n"
     ]
    }
   ],
   "source": [
    "def conv2d_maxpool(x_tensor, conv_num_outputs, conv_ksize, conv_strides, pool_ksize, pool_strides):\n",
    "    \"\"\"\n",
    "    Apply convolution then max pooling to x_tensor\n",
    "    :param x_tensor: TensorFlow Tensor\n",
    "    :param conv_num_outputs: Number of outputs for the convolutional layer\n",
    "    :param conv_ksize: kernal size 2-D Tuple for the convolutional layer\n",
    "    :param conv_strides: Stride 2-D Tuple for convolution\n",
    "    :param pool_ksize: kernal size 2-D Tuple for pool\n",
    "    :param pool_strides: Stride 2-D Tuple for pool\n",
    "    : return: A tensor that represents convolution and max pooling of x_tensor\n",
    "    \"\"\"\n",
    "    # TODO: Implement Function\n",
    "    print('conv2d_maxpool x_tensor shape:')\n",
    "    print(x_tensor.shape)\n",
    "    input_depth = int(x_tensor.shape[len(x_tensor.shape)-1])\n",
    "\n",
    "    filter_weights = tf.Variable(tf.truncated_normal((*conv_ksize , input_depth,conv_num_outputs))) # (height, width, input_depth, output_depth)\n",
    "    filter_bias = tf.Variable(tf.zeros(conv_num_outputs))\n",
    "    strides = (1, *conv_strides, 1) # (batch, height, width, depth)\n",
    "\n",
    "    padding = 'SAME'\n",
    "    conv = tf.nn.conv2d(x_tensor, filter_weights, strides, padding) \n",
    "    conv = tf.nn.bias_add(conv, filter_bias)\n",
    "    conv = tf.nn.relu(conv)\n",
    "\n",
    "    p_filter = (1, *pool_ksize, 1)\n",
    "    p_strides = (1, *pool_strides, 1)\n",
    "    padding = 'VALID'\n",
    "    return tf.nn.max_pool(conv, p_filter, p_strides, padding)\n",
    "\n",
    "\n",
    "\"\"\"\n",
    "DON'T MODIFY ANYTHING IN THIS CELL THAT IS BELOW THIS LINE\n",
    "\"\"\"\n",
    "tests.test_con_pool(conv2d_maxpool)"
   ]
  },
  {
   "cell_type": "markdown",
   "metadata": {},
   "source": [
    "### Flatten Layer\n",
    "Implement the `flatten` function to change the dimension of `x_tensor` from a 4-D tensor to a 2-D tensor.  The output should be the shape (*Batch Size*, *Flattened Image Size*). Shortcut option: you can use classes from the [TensorFlow Layers](https://www.tensorflow.org/api_docs/python/tf/layers) or [TensorFlow Layers (contrib)](https://www.tensorflow.org/api_guides/python/contrib.layers) packages for this layer. For more of a challenge, only use other TensorFlow packages."
   ]
  },
  {
   "cell_type": "code",
   "execution_count": 311,
   "metadata": {},
   "outputs": [
    {
     "name": "stdout",
     "output_type": "stream",
     "text": [
      "flatten x_tensor.shape\n",
      "(?, 10, 30, 6)\n",
      "Tests Passed\n"
     ]
    }
   ],
   "source": [
    "def flatten(x_tensor):\n",
    "    \"\"\"\n",
    "    Flatten x_tensor to (Batch Size, Flattened Image Size)\n",
    "    : x_tensor: A tensor of size (Batch Size, ...), where ... are the image dimensions.\n",
    "    : return: A tensor of size (Batch Size, Flattened Image Size).\n",
    "    \"\"\"\n",
    "    # TODO: Implement Function\n",
    "    print('flatten x_tensor.shape')\n",
    "    print(x_tensor.shape)\n",
    "    #b_size = int(x_tensor.shape[0])\n",
    "    fla_img_size = int(x_tensor.shape[1]*x_tensor.shape[2]*(x_tensor.shape[3]))\n",
    "    #x_tensor = tf.placeholder(tf.float32, (x_tensor.shape[0],fla_img_size))\n",
    "    return  tf.reshape(x_tensor,[-1,fla_img_size])\n",
    "\n",
    "\n",
    "\"\"\"\n",
    "DON'T MODIFY ANYTHING IN THIS CELL THAT IS BELOW THIS LINE\n",
    "\"\"\"\n",
    "tests.test_flatten(flatten)"
   ]
  },
  {
   "cell_type": "markdown",
   "metadata": {},
   "source": [
    "### Fully-Connected Layer\n",
    "Implement the `fully_conn` function to apply a fully connected layer to `x_tensor` with the shape (*Batch Size*, *num_outputs*). Shortcut option: you can use classes from the [TensorFlow Layers](https://www.tensorflow.org/api_docs/python/tf/layers) or [TensorFlow Layers (contrib)](https://www.tensorflow.org/api_guides/python/contrib.layers) packages for this layer. For more of a challenge, only use other TensorFlow packages."
   ]
  },
  {
   "cell_type": "code",
   "execution_count": 312,
   "metadata": {},
   "outputs": [
    {
     "name": "stdout",
     "output_type": "stream",
     "text": [
      "fully_conn:x_tensor.shape\n",
      "(?, 128)\n",
      "Tests Passed\n"
     ]
    }
   ],
   "source": [
    "def fully_conn(x_tensor, num_outputs):\n",
    "    \"\"\"\n",
    "    Apply a fully connected layer to x_tensor using weight and bias\n",
    "    : x_tensor: A 2-D tensor where the first dimension is batch size.\n",
    "    : num_outputs: The number of output that the new tensor should be.\n",
    "    : return: A 2-D tensor where the second dimension is num_outputs.\n",
    "    \"\"\"\n",
    "    # TODO: Implement Function\n",
    "    print('fully_conn:x_tensor.shape')\n",
    "    print(x_tensor.shape)\n",
    "\n",
    "    ws = tf.Variable(tf.random_normal((int(x_tensor.shape[1]), num_outputs)))\n",
    "    bs = tf.Variable(tf.random_normal([num_outputs]))\n",
    "    x_tensor = tf.add(tf.matmul(x_tensor, ws), bs)\n",
    "    return tf.nn.relu(x_tensor)\n",
    "\n",
    "\n",
    "\"\"\"\n",
    "DON'T MODIFY ANYTHING IN THIS CELL THAT IS BELOW THIS LINE\n",
    "\"\"\"\n",
    "tests.test_fully_conn(fully_conn)"
   ]
  },
  {
   "cell_type": "markdown",
   "metadata": {},
   "source": [
    "### Output Layer\n",
    "Implement the `output` function to apply a fully connected layer to `x_tensor` with the shape (*Batch Size*, *num_outputs*). Shortcut option: you can use classes from the [TensorFlow Layers](https://www.tensorflow.org/api_docs/python/tf/layers) or [TensorFlow Layers (contrib)](https://www.tensorflow.org/api_guides/python/contrib.layers) packages for this layer. For more of a challenge, only use other TensorFlow packages.\n",
    "\n",
    "**Note:** Activation, softmax, or cross entropy should **not** be applied to this."
   ]
  },
  {
   "cell_type": "code",
   "execution_count": 313,
   "metadata": {},
   "outputs": [
    {
     "name": "stdout",
     "output_type": "stream",
     "text": [
      "output x_tensor.shape\n",
      "(?, 128)\n",
      "Tests Passed\n"
     ]
    }
   ],
   "source": [
    "def output(x_tensor, num_outputs):\n",
    "    \"\"\"\n",
    "    Apply a output layer to x_tensor using weight and bias\n",
    "    : x_tensor: A 2-D tensor where the first dimension is batch size.\n",
    "    : num_outputs: The number of output that the new tensor should be.\n",
    "    : return: A 2-D tensor where the second dimension is num_outputs.\n",
    "    \"\"\"\n",
    "    # TODO: Implement Function\n",
    "    print('output x_tensor.shape')\n",
    "    print(x_tensor.shape)\n",
    "    ws = tf.Variable(tf.random_normal((int(x_tensor.shape[1]), num_outputs)))\n",
    "    bs = tf.Variable(tf.random_normal([num_outputs]))\n",
    "    x_tensor = tf.add(tf.matmul(x_tensor, ws), bs)\n",
    "    return x_tensor\n",
    "\n",
    "\n",
    "\"\"\"\n",
    "DON'T MODIFY ANYTHING IN THIS CELL THAT IS BELOW THIS LINE\n",
    "\"\"\"\n",
    "tests.test_output(output)"
   ]
  },
  {
   "cell_type": "markdown",
   "metadata": {},
   "source": [
    "### Create Convolutional Model\n",
    "Implement the function `conv_net` to create a convolutional neural network model. The function takes in a batch of images, `x`, and outputs logits.  Use the layers you created above to create this model:\n",
    "\n",
    "* Apply 1, 2, or 3 Convolution and Max Pool layers\n",
    "* Apply a Flatten Layer\n",
    "* Apply 1, 2, or 3 Fully Connected Layers\n",
    "* Apply an Output Layer\n",
    "* Return the output\n",
    "* Apply [TensorFlow's Dropout](https://www.tensorflow.org/api_docs/python/tf/nn/dropout) to one or more layers in the model using `keep_prob`. "
   ]
  },
  {
   "cell_type": "code",
   "execution_count": 314,
   "metadata": {},
   "outputs": [
    {
     "name": "stdout",
     "output_type": "stream",
     "text": [
      "conv2d_maxpool x_tensor shape:\n",
      "(?, 32, 32, 3)\n",
      "conv2d_maxpool x_tensor shape:\n",
      "(?, 16, 16, 64)\n",
      "flatten x_tensor.shape\n",
      "(?, 8, 8, 128)\n",
      "fully_conn:x_tensor.shape\n",
      "(?, 8192)\n",
      "output x_tensor.shape\n",
      "(?, 4096)\n",
      "conv2d_maxpool x_tensor shape:\n",
      "(?, 32, 32, 3)\n",
      "conv2d_maxpool x_tensor shape:\n",
      "(?, 16, 16, 64)\n",
      "flatten x_tensor.shape\n",
      "(?, 8, 8, 128)\n",
      "fully_conn:x_tensor.shape\n",
      "(?, 8192)\n",
      "output x_tensor.shape\n",
      "(?, 4096)\n",
      "Neural Network Built!\n"
     ]
    }
   ],
   "source": [
    "def conv_net(x, keep_prob):\n",
    "    \"\"\"\n",
    "    Create a convolutional neural network model\n",
    "    : x: Placeholder tensor that holds image data.\n",
    "    : keep_prob: Placeholder tensor that hold dropout keep probability.\n",
    "    : return: Tensor that represents logits\n",
    "    \"\"\"\n",
    "    # TODO: Apply 1, 2, or 3 Convolution and Max Pool layers\n",
    "    #    Play around with different number of outputs, kernel size and stride\n",
    "    # Function Definition from Above:\n",
    "    #    conv2d_maxpool(x_tensor, conv_num_outputs, conv_ksize, conv_strides, pool_ksize, pool_strides)\n",
    "    conv = conv2d_maxpool(x,64,(5,5),(1,1),(2,2),(2,2))\n",
    "    conv = conv2d_maxpool(conv,128,(3,3),(1,1),(2,2),(2,2))\n",
    "    \n",
    "    #conv = conv2d_maxpool(conv,128,(3,3),(1,1),(2,2),(2,2))\n",
    "    #conv = tf.nn.dropout(conv, keep_prob)\n",
    "    \n",
    "    # TODO: Apply a Flatten Layer\n",
    "    # Function Definition from Above:\n",
    "    #   flatten(x_tensor)\n",
    "    fla = flatten(conv)\n",
    "\n",
    "    # TODO: Apply 1, 2, or 3 Fully Connected Layers\n",
    "    #    Play around with different number of outputs\n",
    "    # Function Definition from Above:\n",
    "    #   fully_conn(x_tensor, num_outputs)\n",
    "    ful = fully_conn(fla,4096)\n",
    "    ful = tf.nn.dropout(ful, keep_prob)\n",
    "    #ful = fully_conn(fla,256)\n",
    "    #ful = tf.nn.dropout(ful, keep_prob)\n",
    "    #ful = fully_conn(ful,32)\n",
    "    #ful = tf.nn.dropout(ful, keep_prob)\n",
    "    \n",
    "\n",
    "    # TODO: Apply an Output Layer\n",
    "    #    Set this to the number of classes\n",
    "    # Function Definition from Above:\n",
    "    #   output(x_tensor, num_outputs)\n",
    "    out = output(ful,10)\n",
    "    \n",
    "    # TODO: return output\n",
    "    return out\n",
    "\n",
    "\n",
    "\"\"\"\n",
    "DON'T MODIFY ANYTHING IN THIS CELL THAT IS BELOW THIS LINE\n",
    "\"\"\"\n",
    "\n",
    "##############################\n",
    "## Build the Neural Network ##\n",
    "##############################\n",
    "\n",
    "# Remove previous weights, bias, inputs, etc..\n",
    "tf.reset_default_graph()\n",
    "\n",
    "# Inputs\n",
    "x = neural_net_image_input((32, 32, 3))\n",
    "y = neural_net_label_input(10)\n",
    "keep_prob = neural_net_keep_prob_input()\n",
    "\n",
    "# Model\n",
    "logits = conv_net(x, keep_prob)\n",
    "\n",
    "# Name logits Tensor, so that is can be loaded from disk after training\n",
    "logits = tf.identity(logits, name='logits')\n",
    "\n",
    "# Loss and Optimizer\n",
    "cost = tf.reduce_mean(tf.nn.softmax_cross_entropy_with_logits(logits=logits, labels=y))\n",
    "optimizer = tf.train.AdamOptimizer().minimize(cost)\n",
    "\n",
    "\n",
    "# Accuracy\n",
    "correct_pred = tf.equal(tf.argmax(logits, 1), tf.argmax(y, 1))\n",
    "accuracy = tf.reduce_mean(tf.cast(correct_pred, tf.float32), name='accuracy')\n",
    "\n",
    "tests.test_conv_net(conv_net)"
   ]
  },
  {
   "cell_type": "markdown",
   "metadata": {},
   "source": [
    "## Train the Neural Network\n",
    "### Single Optimization\n",
    "Implement the function `train_neural_network` to do a single optimization.  The optimization should use `optimizer` to optimize in `session` with a `feed_dict` of the following:\n",
    "* `x` for image input\n",
    "* `y` for labels\n",
    "* `keep_prob` for keep probability for dropout\n",
    "\n",
    "This function will be called for each batch, so `tf.global_variables_initializer()` has already been called.\n",
    "\n",
    "Note: Nothing needs to be returned. This function is only optimizing the neural network."
   ]
  },
  {
   "cell_type": "code",
   "execution_count": 315,
   "metadata": {},
   "outputs": [
    {
     "name": "stdout",
     "output_type": "stream",
     "text": [
      "Tests Passed\n"
     ]
    }
   ],
   "source": [
    "def train_neural_network(session, optimizer, keep_probability, feature_batch, label_batch):\n",
    "    \"\"\"\n",
    "    Optimize the session on a batch of images and labels\n",
    "    : session: Current TensorFlow session\n",
    "    : optimizer: TensorFlow optimizer function\n",
    "    : keep_probability: keep probability\n",
    "    : feature_batch: Batch of Numpy image data\n",
    "    : label_batch: Batch of Numpy label data\n",
    "    \"\"\"\n",
    "    # TODO: Implement Function\n",
    "        \n",
    "    session.run(optimizer, feed_dict={\n",
    "        x: feature_batch,\n",
    "        y: label_batch,\n",
    "        keep_prob: keep_probability})\n",
    "\n",
    "\n",
    "\"\"\"\n",
    "DON'T MODIFY ANYTHING IN THIS CELL THAT IS BELOW THIS LINE\n",
    "\"\"\"\n",
    "tests.test_train_nn(train_neural_network)"
   ]
  },
  {
   "cell_type": "markdown",
   "metadata": {},
   "source": [
    "### Show Stats\n",
    "Implement the function `print_stats` to print loss and validation accuracy.  Use the global variables `valid_features` and `valid_labels` to calculate validation accuracy.  Use a keep probability of `1.0` to calculate the loss and validation accuracy."
   ]
  },
  {
   "cell_type": "code",
   "execution_count": 316,
   "metadata": {
    "collapsed": true
   },
   "outputs": [],
   "source": [
    "def print_stats(session, feature_batch, label_batch, cost, accuracy):\n",
    "    \"\"\"\n",
    "    Print information about loss and validation accuracy\n",
    "    : session: Current TensorFlow session\n",
    "    : feature_batch: Batch of Numpy image data\n",
    "    : label_batch: Batch of Numpy label data\n",
    "    : cost: TensorFlow cost function\n",
    "    : accuracy: TensorFlow accuracy function\n",
    "    \"\"\"\n",
    "    # TODO: Implement Function\n",
    "    # Calculate batch loss and accuracy\n",
    "    loss = sess.run(cost, feed_dict={\n",
    "                x: feature_batch,\n",
    "                y: label_batch,\n",
    "                keep_prob: 1.})\n",
    "    print('loss: {}'.format(loss))\n",
    "    valid_acc = sess.run(accuracy, feed_dict={\n",
    "                x: valid_features,\n",
    "                y: valid_labels,\n",
    "                keep_prob: 1.})\n",
    "    \n",
    "    print('valid Accuracy: {}'.format(valid_acc))\n",
    "    return valid_acc"
   ]
  },
  {
   "cell_type": "markdown",
   "metadata": {},
   "source": [
    "### Hyperparameters\n",
    "Tune the following parameters:\n",
    "* Set `epochs` to the number of iterations until the network stops learning or start overfitting\n",
    "* Set `batch_size` to the highest number that your machine has memory for.  Most people set them to common sizes of memory:\n",
    " * 64\n",
    " * 128\n",
    " * 256\n",
    " * ...\n",
    "* Set `keep_probability` to the probability of keeping a node using dropout"
   ]
  },
  {
   "cell_type": "code",
   "execution_count": 297,
   "metadata": {
    "collapsed": true
   },
   "outputs": [],
   "source": [
    "# TODO: Tune Parameters\n",
    "epochs = 100\n",
    "batch_size = 128\n",
    "keep_probability = .8\n"
   ]
  },
  {
   "cell_type": "markdown",
   "metadata": {},
   "source": [
    "### Train on a Single CIFAR-10 Batch\n",
    "Instead of training the neural network on all the CIFAR-10 batches of data, let's use a single batch. This should save time while you iterate on the model to get a better accuracy.  Once the final validation accuracy is 50% or greater, run the model on all the data in the next section."
   ]
  },
  {
   "cell_type": "code",
   "execution_count": 298,
   "metadata": {
    "scrolled": false
   },
   "outputs": [
    {
     "name": "stdout",
     "output_type": "stream",
     "text": [
      "Checking the Training on a Single Batch...\n",
      "Epoch  1, CIFAR-10 Batch 1:  loss: 58984.5\n",
      "valid Accuracy: 0.32659998536109924\n",
      "Epoch  2, CIFAR-10 Batch 1:  loss: 32656.412109375\n",
      "valid Accuracy: 0.3871999979019165\n",
      "Epoch  3, CIFAR-10 Batch 1:  loss: 18512.27734375\n",
      "valid Accuracy: 0.41440001130104065\n",
      "Epoch  4, CIFAR-10 Batch 1:  loss: 11317.28515625\n",
      "valid Accuracy: 0.421999990940094\n",
      "Epoch  5, CIFAR-10 Batch 1:  loss: 4662.4658203125\n",
      "valid Accuracy: 0.43720000982284546\n",
      "Epoch  6, CIFAR-10 Batch 1:  loss: 3963.321044921875\n",
      "valid Accuracy: 0.44859999418258667\n",
      "Epoch  7, CIFAR-10 Batch 1:  loss: 2573.73388671875\n",
      "valid Accuracy: 0.4487999975681305\n",
      "Epoch  8, CIFAR-10 Batch 1:  loss: 1277.648193359375\n",
      "valid Accuracy: 0.4551999866962433\n",
      "Epoch  9, CIFAR-10 Batch 1:  loss: 625.5387573242188\n",
      "valid Accuracy: 0.46140000224113464\n",
      "Epoch 10, CIFAR-10 Batch 1:  loss: 199.90206909179688\n",
      "valid Accuracy: 0.4657999873161316\n",
      "Epoch 11, CIFAR-10 Batch 1:  loss: 67.2283706665039\n",
      "valid Accuracy: 0.4708000123500824\n",
      "Epoch 12, CIFAR-10 Batch 1:  loss: 118.54109191894531\n",
      "valid Accuracy: 0.4726000130176544\n",
      "Epoch 13, CIFAR-10 Batch 1:  loss: 0.0\n",
      "valid Accuracy: 0.4699999988079071\n",
      "Epoch 14, CIFAR-10 Batch 1:  loss: 0.0\n",
      "valid Accuracy: 0.47859999537467957\n",
      "Epoch 15, CIFAR-10 Batch 1:  loss: 0.0\n",
      "valid Accuracy: 0.48179998993873596\n",
      "Epoch 16, CIFAR-10 Batch 1:  loss: 0.0\n",
      "valid Accuracy: 0.48980000615119934\n",
      "Epoch 17, CIFAR-10 Batch 1:  loss: 0.0\n",
      "valid Accuracy: 0.4819999933242798\n",
      "Epoch 18, CIFAR-10 Batch 1:  loss: 0.0\n",
      "valid Accuracy: 0.48660001158714294\n",
      "Epoch 19, CIFAR-10 Batch 1:  loss: 0.0\n",
      "valid Accuracy: 0.4880000054836273\n",
      "Epoch 20, CIFAR-10 Batch 1:  loss: 0.0\n",
      "valid Accuracy: 0.48420000076293945\n",
      "Epoch 21, CIFAR-10 Batch 1:  loss: 0.0\n",
      "valid Accuracy: 0.4925999939441681\n",
      "Epoch 22, CIFAR-10 Batch 1:  loss: 0.0\n",
      "valid Accuracy: 0.4875999987125397\n",
      "Epoch 23, CIFAR-10 Batch 1:  loss: 0.0\n",
      "valid Accuracy: 0.49399998784065247\n",
      "Epoch 24, CIFAR-10 Batch 1:  loss: 0.0\n",
      "valid Accuracy: 0.5008000135421753\n",
      "Epoch 25, CIFAR-10 Batch 1:  loss: 0.0\n",
      "valid Accuracy: 0.4986000061035156\n",
      "Epoch 26, CIFAR-10 Batch 1:  loss: 0.0\n",
      "valid Accuracy: 0.4869999885559082\n",
      "Epoch 27, CIFAR-10 Batch 1:  loss: 0.0\n",
      "valid Accuracy: 0.49480000138282776\n",
      "Epoch 28, CIFAR-10 Batch 1:  loss: 0.0\n",
      "valid Accuracy: 0.4986000061035156\n",
      "Epoch 29, CIFAR-10 Batch 1:  loss: 0.0\n",
      "valid Accuracy: 0.510200023651123\n",
      "Epoch 30, CIFAR-10 Batch 1:  loss: 0.0\n",
      "valid Accuracy: 0.5080000162124634\n",
      "Epoch 31, CIFAR-10 Batch 1:  loss: 0.0\n",
      "valid Accuracy: 0.501800000667572\n",
      "Epoch 32, CIFAR-10 Batch 1:  loss: 0.0\n",
      "valid Accuracy: 0.5023999810218811\n",
      "Epoch 33, CIFAR-10 Batch 1:  loss: 0.0\n",
      "valid Accuracy: 0.5112000107765198\n",
      "Epoch 34, CIFAR-10 Batch 1:  loss: 0.0\n",
      "valid Accuracy: 0.5080000162124634\n",
      "Epoch 35, CIFAR-10 Batch 1:  loss: 0.0\n",
      "valid Accuracy: 0.5059999823570251\n",
      "Epoch 36, CIFAR-10 Batch 1:  loss: 0.0\n",
      "valid Accuracy: 0.5085999965667725\n",
      "Epoch 37, CIFAR-10 Batch 1:  loss: 0.0\n",
      "valid Accuracy: 0.5098000168800354\n",
      "Epoch 38, CIFAR-10 Batch 1:  loss: 0.0\n",
      "valid Accuracy: 0.5088000297546387\n",
      "Epoch 39, CIFAR-10 Batch 1:  loss: 0.0\n",
      "valid Accuracy: 0.5026000142097473\n",
      "Epoch 40, CIFAR-10 Batch 1:  loss: 0.0\n",
      "valid Accuracy: 0.5059999823570251\n",
      "Epoch 41, CIFAR-10 Batch 1:  loss: 0.0\n",
      "valid Accuracy: 0.5081999897956848\n",
      "Epoch 42, CIFAR-10 Batch 1:  loss: 0.0\n",
      "valid Accuracy: 0.5103999972343445\n",
      "Epoch 43, CIFAR-10 Batch 1:  loss: 0.0\n",
      "valid Accuracy: 0.5049999952316284\n",
      "Epoch 44, CIFAR-10 Batch 1:  loss: 0.0\n",
      "valid Accuracy: 0.5041999816894531\n",
      "Epoch 45, CIFAR-10 Batch 1:  loss: 0.0\n",
      "valid Accuracy: 0.5112000107765198\n",
      "Epoch 46, CIFAR-10 Batch 1:  loss: 0.0\n",
      "valid Accuracy: 0.5094000101089478\n",
      "Epoch 47, CIFAR-10 Batch 1:  loss: 0.0\n",
      "valid Accuracy: 0.5009999871253967\n",
      "Epoch 48, CIFAR-10 Batch 1:  loss: 0.0\n",
      "valid Accuracy: 0.5098000168800354\n",
      "Epoch 49, CIFAR-10 Batch 1:  loss: 0.0\n",
      "valid Accuracy: 0.510200023651123\n",
      "Epoch 50, CIFAR-10 Batch 1:  loss: 0.0\n",
      "valid Accuracy: 0.5180000066757202\n",
      "Epoch 51, CIFAR-10 Batch 1:  loss: 0.0\n",
      "valid Accuracy: 0.5198000073432922\n",
      "Epoch 52, CIFAR-10 Batch 1:  loss: 0.0\n",
      "valid Accuracy: 0.5117999911308289\n",
      "Epoch 53, CIFAR-10 Batch 1:  loss: 0.0\n",
      "valid Accuracy: 0.5170000195503235\n",
      "Epoch 54, CIFAR-10 Batch 1:  loss: 0.0\n",
      "valid Accuracy: 0.5131999850273132\n",
      "Epoch 55, CIFAR-10 Batch 1:  loss: 0.0\n",
      "valid Accuracy: 0.5127999782562256\n",
      "Epoch 56, CIFAR-10 Batch 1:  loss: 0.0\n",
      "valid Accuracy: 0.5194000005722046\n",
      "Epoch 57, CIFAR-10 Batch 1:  loss: 0.0\n",
      "valid Accuracy: 0.5076000094413757\n",
      "Epoch 58, CIFAR-10 Batch 1:  loss: 0.0\n",
      "valid Accuracy: 0.5108000040054321\n",
      "Epoch 59, CIFAR-10 Batch 1:  loss: 0.0\n",
      "valid Accuracy: 0.5234000086784363\n",
      "Epoch 60, CIFAR-10 Batch 1:  loss: 0.0\n",
      "valid Accuracy: 0.5166000127792358\n",
      "Epoch 61, CIFAR-10 Batch 1:  loss: 15.551587104797363\n",
      "valid Accuracy: 0.5156000256538391\n",
      "Epoch 62, CIFAR-10 Batch 1:  loss: 0.0\n",
      "valid Accuracy: 0.5224000215530396\n",
      "Epoch 63, CIFAR-10 Batch 1:  loss: 0.0\n",
      "valid Accuracy: 0.521399974822998\n",
      "Epoch 64, CIFAR-10 Batch 1:  loss: 0.0\n",
      "valid Accuracy: 0.5152000188827515\n",
      "Epoch 65, CIFAR-10 Batch 1:  loss: 0.0\n",
      "valid Accuracy: 0.5216000080108643\n",
      "Epoch 66, CIFAR-10 Batch 1:  loss: 0.0\n",
      "valid Accuracy: 0.5138000249862671\n",
      "Epoch 67, CIFAR-10 Batch 1:  loss: 0.0\n",
      "valid Accuracy: 0.5120000243186951\n",
      "Epoch 68, CIFAR-10 Batch 1:  loss: 0.0\n",
      "valid Accuracy: 0.515999972820282\n",
      "Epoch 69, CIFAR-10 Batch 1:  loss: 0.0\n",
      "valid Accuracy: 0.5034000277519226\n",
      "Epoch 70, CIFAR-10 Batch 1:  loss: 0.0\n",
      "valid Accuracy: 0.5153999924659729\n",
      "Epoch 71, CIFAR-10 Batch 1:  loss: 0.0\n",
      "valid Accuracy: 0.5202000141143799\n",
      "Epoch 72, CIFAR-10 Batch 1:  loss: 0.0\n",
      "valid Accuracy: 0.5202000141143799\n",
      "Epoch 73, CIFAR-10 Batch 1:  loss: 0.0\n",
      "valid Accuracy: 0.5185999870300293\n",
      "Epoch 74, CIFAR-10 Batch 1:  loss: 0.0\n",
      "valid Accuracy: 0.503000020980835\n",
      "Epoch 75, CIFAR-10 Batch 1:  loss: 0.0\n",
      "valid Accuracy: 0.5230000019073486\n",
      "Epoch 76, CIFAR-10 Batch 1:  loss: 0.0\n",
      "valid Accuracy: 0.5264000296592712\n",
      "Epoch 77, CIFAR-10 Batch 1:  loss: 0.0\n",
      "valid Accuracy: 0.5307999849319458\n",
      "Epoch 78, CIFAR-10 Batch 1:  loss: 0.0\n",
      "valid Accuracy: 0.519599974155426\n",
      "Epoch 79, CIFAR-10 Batch 1:  loss: 0.0\n",
      "valid Accuracy: 0.519599974155426\n",
      "Epoch 80, CIFAR-10 Batch 1:  loss: 0.0\n",
      "valid Accuracy: 0.5230000019073486\n",
      "Epoch 81, CIFAR-10 Batch 1:  loss: 0.0\n",
      "valid Accuracy: 0.5157999992370605\n",
      "Epoch 82, CIFAR-10 Batch 1:  loss: 0.0\n",
      "valid Accuracy: 0.5248000025749207\n",
      "Epoch 83, CIFAR-10 Batch 1:  loss: 0.0\n",
      "valid Accuracy: 0.5206000208854675\n",
      "Epoch 84, CIFAR-10 Batch 1:  loss: 0.0\n",
      "valid Accuracy: 0.5105999708175659\n",
      "Epoch 85, CIFAR-10 Batch 1:  loss: 0.0\n",
      "valid Accuracy: 0.5224000215530396\n",
      "Epoch 86, CIFAR-10 Batch 1:  loss: 0.0\n",
      "valid Accuracy: 0.5230000019073486\n",
      "Epoch 87, CIFAR-10 Batch 1:  loss: 0.0\n",
      "valid Accuracy: 0.5267999768257141\n",
      "Epoch 88, CIFAR-10 Batch 1:  loss: 0.0\n",
      "valid Accuracy: 0.5306000113487244\n",
      "Epoch 89, CIFAR-10 Batch 1:  loss: 0.0\n",
      "valid Accuracy: 0.5230000019073486\n",
      "Epoch 90, CIFAR-10 Batch 1:  loss: 24.926685333251953\n",
      "valid Accuracy: 0.521399974822998\n",
      "Epoch 91, CIFAR-10 Batch 1:  loss: 0.0\n",
      "valid Accuracy: 0.5249999761581421\n",
      "Epoch 92, CIFAR-10 Batch 1:  loss: 0.0\n",
      "valid Accuracy: 0.524399995803833\n",
      "Epoch 93, CIFAR-10 Batch 1:  loss: 0.0\n",
      "valid Accuracy: 0.5249999761581421\n",
      "Epoch 94, CIFAR-10 Batch 1:  loss: 0.0\n",
      "valid Accuracy: 0.5203999876976013\n",
      "Epoch 95, CIFAR-10 Batch 1:  loss: 0.0\n",
      "valid Accuracy: 0.5383999943733215\n",
      "Epoch 96, CIFAR-10 Batch 1:  loss: 0.0\n",
      "valid Accuracy: 0.5357999801635742\n",
      "Epoch 97, CIFAR-10 Batch 1:  loss: 0.0\n",
      "valid Accuracy: 0.5356000065803528\n",
      "Epoch 98, CIFAR-10 Batch 1:  loss: 0.0\n",
      "valid Accuracy: 0.532800018787384\n",
      "Epoch 99, CIFAR-10 Batch 1:  loss: 0.0\n",
      "valid Accuracy: 0.5325999855995178\n",
      "Epoch 100, CIFAR-10 Batch 1:  loss: 0.0\n",
      "valid Accuracy: 0.5264000296592712\n"
     ]
    }
   ],
   "source": [
    "\"\"\"\n",
    "DON'T MODIFY ANYTHING IN THIS CELL\n",
    "\"\"\"\n",
    "print('Checking the Training on a Single Batch...')\n",
    "with tf.Session() as sess:\n",
    "    # Initializing the variables\n",
    "    sess.run(tf.global_variables_initializer())\n",
    "    \n",
    "    # Training cycle\n",
    "    accs= []\n",
    "    for epoch in range(epochs):\n",
    "        batch_i = 1\n",
    "        for batch_features, batch_labels in helper.load_preprocess_training_batch(batch_i, batch_size):\n",
    "            train_neural_network(sess, optimizer, keep_probability, batch_features, batch_labels)\n",
    "        print('Epoch {:>2}, CIFAR-10 Batch {}:  '.format(epoch + 1, batch_i), end='')\n",
    "        acc = print_stats(sess, batch_features, batch_labels, cost, accuracy)\n",
    "        accs.append(acc)\n",
    "    "
   ]
  },
  {
   "cell_type": "markdown",
   "metadata": {},
   "source": [
    "### Fully Train the Model\n",
    "Now that you got a good accuracy with a single CIFAR-10 batch, try it with all five batches."
   ]
  },
  {
   "cell_type": "code",
   "execution_count": 199,
   "metadata": {},
   "outputs": [
    {
     "name": "stdout",
     "output_type": "stream",
     "text": [
      "Training...\n",
      "Epoch  1, CIFAR-10 Batch 1:  loss: 20731.78125\n",
      "valid Accuracy: 0.27300000190734863\n",
      "Epoch  1, CIFAR-10 Batch 2:  loss: 13873.1044921875\n",
      "valid Accuracy: 0.3368000090122223\n",
      "Epoch  1, CIFAR-10 Batch 3:  loss: 7801.19921875\n",
      "valid Accuracy: 0.36399999260902405\n",
      "Epoch  1, CIFAR-10 Batch 4:  loss: 8332.822265625\n",
      "valid Accuracy: 0.3783999979496002\n",
      "Epoch  1, CIFAR-10 Batch 5:  loss: 5334.5380859375\n",
      "valid Accuracy: 0.3885999917984009\n",
      "Epoch  2, CIFAR-10 Batch 1:  loss: 7434.1884765625\n",
      "valid Accuracy: 0.3937999904155731\n",
      "Epoch  2, CIFAR-10 Batch 2:  loss: 5341.2578125\n",
      "valid Accuracy: 0.39899998903274536\n",
      "Epoch  2, CIFAR-10 Batch 3:  loss: 3317.26025390625\n",
      "valid Accuracy: 0.39980000257492065\n",
      "Epoch  2, CIFAR-10 Batch 4:  loss: 2548.99462890625\n",
      "valid Accuracy: 0.39800000190734863\n",
      "Epoch  2, CIFAR-10 Batch 5:  loss: 1711.358154296875\n",
      "valid Accuracy: 0.4002000093460083\n",
      "Epoch  3, CIFAR-10 Batch 1:  loss: 3321.725341796875\n",
      "valid Accuracy: 0.3968000113964081\n",
      "Epoch  3, CIFAR-10 Batch 2:  loss: 2431.04541015625\n",
      "valid Accuracy: 0.3846000134944916\n",
      "Epoch  3, CIFAR-10 Batch 3:  loss: 1697.4716796875\n",
      "valid Accuracy: 0.3822000026702881\n",
      "Epoch  3, CIFAR-10 Batch 4:  loss: 1196.053466796875\n",
      "valid Accuracy: 0.3677999973297119\n",
      "Epoch  3, CIFAR-10 Batch 5:  loss: 1047.158447265625\n",
      "valid Accuracy: 0.3594000041484833\n",
      "Epoch  4, CIFAR-10 Batch 1:  loss: 1532.604736328125\n",
      "valid Accuracy: 0.3553999960422516\n",
      "Epoch  4, CIFAR-10 Batch 2:  loss: 1033.0179443359375\n",
      "valid Accuracy: 0.33799999952316284\n",
      "Epoch  4, CIFAR-10 Batch 3:  loss: 881.4671020507812\n",
      "valid Accuracy: 0.328000009059906\n",
      "Epoch  4, CIFAR-10 Batch 4:  loss: 817.0155639648438\n",
      "valid Accuracy: 0.30799999833106995\n",
      "Epoch  4, CIFAR-10 Batch 5:  loss: 709.3209228515625\n",
      "valid Accuracy: 0.28679999709129333\n",
      "Epoch  5, CIFAR-10 Batch 1:  loss: 731.4629516601562\n",
      "valid Accuracy: 0.27480000257492065\n",
      "Epoch  5, CIFAR-10 Batch 2:  loss: 441.43682861328125\n",
      "valid Accuracy: 0.25859999656677246\n",
      "Epoch  5, CIFAR-10 Batch 3:  loss: 543.416748046875\n",
      "valid Accuracy: 0.24660000205039978\n",
      "Epoch  5, CIFAR-10 Batch 4:  loss: 372.98382568359375\n",
      "valid Accuracy: 0.23100000619888306\n",
      "Epoch  5, CIFAR-10 Batch 5:  loss: 295.95233154296875\n",
      "valid Accuracy: 0.22059999406337738\n",
      "Epoch  6, CIFAR-10 Batch 1:  loss: 289.4553527832031\n",
      "valid Accuracy: 0.2054000049829483\n",
      "Epoch  6, CIFAR-10 Batch 2:  loss: 226.78555297851562\n",
      "valid Accuracy: 0.20160000026226044\n",
      "Epoch  6, CIFAR-10 Batch 3:  loss: 241.8185577392578\n",
      "valid Accuracy: 0.19660000503063202\n",
      "Epoch  6, CIFAR-10 Batch 4:  loss: 163.3603057861328\n",
      "valid Accuracy: 0.19020000100135803\n",
      "Epoch  6, CIFAR-10 Batch 5:  loss: 125.4253921508789\n",
      "valid Accuracy: 0.1858000010251999\n",
      "Epoch  7, CIFAR-10 Batch 1:  loss: 120.9959487915039\n",
      "valid Accuracy: 0.16899999976158142\n",
      "Epoch  7, CIFAR-10 Batch 2:  loss: 84.48779296875\n",
      "valid Accuracy: 0.16339999437332153\n",
      "Epoch  7, CIFAR-10 Batch 3:  loss: 147.716064453125\n",
      "valid Accuracy: 0.15440000593662262\n",
      "Epoch  7, CIFAR-10 Batch 4:  loss: 66.02780151367188\n",
      "valid Accuracy: 0.15160000324249268\n",
      "Epoch  7, CIFAR-10 Batch 5:  loss: 37.963294982910156\n",
      "valid Accuracy: 0.15440000593662262\n",
      "Epoch  8, CIFAR-10 Batch 1:  loss: 36.00260543823242\n",
      "valid Accuracy: 0.14139999449253082\n",
      "Epoch  8, CIFAR-10 Batch 2:  loss: 37.725894927978516\n",
      "valid Accuracy: 0.1412000060081482\n",
      "Epoch  8, CIFAR-10 Batch 3:  loss: 79.68632507324219\n",
      "valid Accuracy: 0.1428000032901764\n",
      "Epoch  8, CIFAR-10 Batch 4:  loss: 31.083324432373047\n",
      "valid Accuracy: 0.13539999723434448\n",
      "Epoch  8, CIFAR-10 Batch 5:  loss: 11.754035949707031\n",
      "valid Accuracy: 0.13619999587535858\n",
      "Epoch  9, CIFAR-10 Batch 1:  loss: 12.002120971679688\n",
      "valid Accuracy: 0.13539999723434448\n",
      "Epoch  9, CIFAR-10 Batch 2:  loss: 19.951213836669922\n",
      "valid Accuracy: 0.13179999589920044\n",
      "Epoch  9, CIFAR-10 Batch 3:  loss: 36.20338821411133\n",
      "valid Accuracy: 0.13220000267028809\n",
      "Epoch  9, CIFAR-10 Batch 4:  loss: 11.733488082885742\n",
      "valid Accuracy: 0.12860000133514404\n",
      "Epoch  9, CIFAR-10 Batch 5:  loss: 5.287910461425781\n",
      "valid Accuracy: 0.10819999873638153\n",
      "Epoch 10, CIFAR-10 Batch 1:  loss: 10.96318244934082\n",
      "valid Accuracy: 0.11259999871253967\n",
      "Epoch 10, CIFAR-10 Batch 2:  loss: 11.403152465820312\n",
      "valid Accuracy: 0.121799997985363\n",
      "Epoch 10, CIFAR-10 Batch 3:  loss: 19.024206161499023\n",
      "valid Accuracy: 0.11919999867677689\n",
      "Epoch 10, CIFAR-10 Batch 4:  loss: 8.533549308776855\n",
      "valid Accuracy: 0.12080000340938568\n"
     ]
    },
    {
     "ename": "KeyboardInterrupt",
     "evalue": "",
     "output_type": "error",
     "traceback": [
      "\u001b[0;31m---------------------------------------------------------------------------\u001b[0m",
      "\u001b[0;31mKeyboardInterrupt\u001b[0m                         Traceback (most recent call last)",
      "\u001b[0;32m<ipython-input-199-9df3032ebe9d>\u001b[0m in \u001b[0;36m<module>\u001b[0;34m()\u001b[0m\n\u001b[1;32m     15\u001b[0m         \u001b[0;32mfor\u001b[0m \u001b[0mbatch_i\u001b[0m \u001b[0;32min\u001b[0m \u001b[0mrange\u001b[0m\u001b[0;34m(\u001b[0m\u001b[0;36m1\u001b[0m\u001b[0;34m,\u001b[0m \u001b[0mn_batches\u001b[0m \u001b[0;34m+\u001b[0m \u001b[0;36m1\u001b[0m\u001b[0;34m)\u001b[0m\u001b[0;34m:\u001b[0m\u001b[0;34m\u001b[0m\u001b[0m\n\u001b[1;32m     16\u001b[0m             \u001b[0;32mfor\u001b[0m \u001b[0mbatch_features\u001b[0m\u001b[0;34m,\u001b[0m \u001b[0mbatch_labels\u001b[0m \u001b[0;32min\u001b[0m \u001b[0mhelper\u001b[0m\u001b[0;34m.\u001b[0m\u001b[0mload_preprocess_training_batch\u001b[0m\u001b[0;34m(\u001b[0m\u001b[0mbatch_i\u001b[0m\u001b[0;34m,\u001b[0m \u001b[0mbatch_size\u001b[0m\u001b[0;34m)\u001b[0m\u001b[0;34m:\u001b[0m\u001b[0;34m\u001b[0m\u001b[0m\n\u001b[0;32m---> 17\u001b[0;31m                 \u001b[0mtrain_neural_network\u001b[0m\u001b[0;34m(\u001b[0m\u001b[0msess\u001b[0m\u001b[0;34m,\u001b[0m \u001b[0moptimizer\u001b[0m\u001b[0;34m,\u001b[0m \u001b[0mkeep_probability\u001b[0m\u001b[0;34m,\u001b[0m \u001b[0mbatch_features\u001b[0m\u001b[0;34m,\u001b[0m \u001b[0mbatch_labels\u001b[0m\u001b[0;34m)\u001b[0m\u001b[0;34m\u001b[0m\u001b[0m\n\u001b[0m\u001b[1;32m     18\u001b[0m             \u001b[0mprint\u001b[0m\u001b[0;34m(\u001b[0m\u001b[0;34m'Epoch {:>2}, CIFAR-10 Batch {}:  '\u001b[0m\u001b[0;34m.\u001b[0m\u001b[0mformat\u001b[0m\u001b[0;34m(\u001b[0m\u001b[0mepoch\u001b[0m \u001b[0;34m+\u001b[0m \u001b[0;36m1\u001b[0m\u001b[0;34m,\u001b[0m \u001b[0mbatch_i\u001b[0m\u001b[0;34m)\u001b[0m\u001b[0;34m,\u001b[0m \u001b[0mend\u001b[0m\u001b[0;34m=\u001b[0m\u001b[0;34m''\u001b[0m\u001b[0;34m)\u001b[0m\u001b[0;34m\u001b[0m\u001b[0m\n\u001b[1;32m     19\u001b[0m             \u001b[0mprint_stats\u001b[0m\u001b[0;34m(\u001b[0m\u001b[0msess\u001b[0m\u001b[0;34m,\u001b[0m \u001b[0mbatch_features\u001b[0m\u001b[0;34m,\u001b[0m \u001b[0mbatch_labels\u001b[0m\u001b[0;34m,\u001b[0m \u001b[0mcost\u001b[0m\u001b[0;34m,\u001b[0m \u001b[0maccuracy\u001b[0m\u001b[0;34m)\u001b[0m\u001b[0;34m\u001b[0m\u001b[0m\n",
      "\u001b[0;32m<ipython-input-170-8087ea50c760>\u001b[0m in \u001b[0;36mtrain_neural_network\u001b[0;34m(session, optimizer, keep_probability, feature_batch, label_batch)\u001b[0m\n\u001b[1;32m     13\u001b[0m         \u001b[0mx\u001b[0m\u001b[0;34m:\u001b[0m \u001b[0mfeature_batch\u001b[0m\u001b[0;34m,\u001b[0m\u001b[0;34m\u001b[0m\u001b[0m\n\u001b[1;32m     14\u001b[0m         \u001b[0my\u001b[0m\u001b[0;34m:\u001b[0m \u001b[0mlabel_batch\u001b[0m\u001b[0;34m,\u001b[0m\u001b[0;34m\u001b[0m\u001b[0m\n\u001b[0;32m---> 15\u001b[0;31m         keep_prob: keep_probability})\n\u001b[0m\u001b[1;32m     16\u001b[0m \u001b[0;34m\u001b[0m\u001b[0m\n\u001b[1;32m     17\u001b[0m \u001b[0;34m\u001b[0m\u001b[0m\n",
      "\u001b[0;32m~/anaconda/envs/tensorflow/lib/python3.6/site-packages/tensorflow/python/client/session.py\u001b[0m in \u001b[0;36mrun\u001b[0;34m(self, fetches, feed_dict, options, run_metadata)\u001b[0m\n\u001b[1;32m    893\u001b[0m     \u001b[0;32mtry\u001b[0m\u001b[0;34m:\u001b[0m\u001b[0;34m\u001b[0m\u001b[0m\n\u001b[1;32m    894\u001b[0m       result = self._run(None, fetches, feed_dict, options_ptr,\n\u001b[0;32m--> 895\u001b[0;31m                          run_metadata_ptr)\n\u001b[0m\u001b[1;32m    896\u001b[0m       \u001b[0;32mif\u001b[0m \u001b[0mrun_metadata\u001b[0m\u001b[0;34m:\u001b[0m\u001b[0;34m\u001b[0m\u001b[0m\n\u001b[1;32m    897\u001b[0m         \u001b[0mproto_data\u001b[0m \u001b[0;34m=\u001b[0m \u001b[0mtf_session\u001b[0m\u001b[0;34m.\u001b[0m\u001b[0mTF_GetBuffer\u001b[0m\u001b[0;34m(\u001b[0m\u001b[0mrun_metadata_ptr\u001b[0m\u001b[0;34m)\u001b[0m\u001b[0;34m\u001b[0m\u001b[0m\n",
      "\u001b[0;32m~/anaconda/envs/tensorflow/lib/python3.6/site-packages/tensorflow/python/client/session.py\u001b[0m in \u001b[0;36m_run\u001b[0;34m(self, handle, fetches, feed_dict, options, run_metadata)\u001b[0m\n\u001b[1;32m   1122\u001b[0m     \u001b[0;32mif\u001b[0m \u001b[0mfinal_fetches\u001b[0m \u001b[0;32mor\u001b[0m \u001b[0mfinal_targets\u001b[0m \u001b[0;32mor\u001b[0m \u001b[0;34m(\u001b[0m\u001b[0mhandle\u001b[0m \u001b[0;32mand\u001b[0m \u001b[0mfeed_dict_tensor\u001b[0m\u001b[0;34m)\u001b[0m\u001b[0;34m:\u001b[0m\u001b[0;34m\u001b[0m\u001b[0m\n\u001b[1;32m   1123\u001b[0m       results = self._do_run(handle, final_targets, final_fetches,\n\u001b[0;32m-> 1124\u001b[0;31m                              feed_dict_tensor, options, run_metadata)\n\u001b[0m\u001b[1;32m   1125\u001b[0m     \u001b[0;32melse\u001b[0m\u001b[0;34m:\u001b[0m\u001b[0;34m\u001b[0m\u001b[0m\n\u001b[1;32m   1126\u001b[0m       \u001b[0mresults\u001b[0m \u001b[0;34m=\u001b[0m \u001b[0;34m[\u001b[0m\u001b[0;34m]\u001b[0m\u001b[0;34m\u001b[0m\u001b[0m\n",
      "\u001b[0;32m~/anaconda/envs/tensorflow/lib/python3.6/site-packages/tensorflow/python/client/session.py\u001b[0m in \u001b[0;36m_do_run\u001b[0;34m(self, handle, target_list, fetch_list, feed_dict, options, run_metadata)\u001b[0m\n\u001b[1;32m   1319\u001b[0m     \u001b[0;32mif\u001b[0m \u001b[0mhandle\u001b[0m \u001b[0;32mis\u001b[0m \u001b[0;32mNone\u001b[0m\u001b[0;34m:\u001b[0m\u001b[0;34m\u001b[0m\u001b[0m\n\u001b[1;32m   1320\u001b[0m       return self._do_call(_run_fn, self._session, feeds, fetches, targets,\n\u001b[0;32m-> 1321\u001b[0;31m                            options, run_metadata)\n\u001b[0m\u001b[1;32m   1322\u001b[0m     \u001b[0;32melse\u001b[0m\u001b[0;34m:\u001b[0m\u001b[0;34m\u001b[0m\u001b[0m\n\u001b[1;32m   1323\u001b[0m       \u001b[0;32mreturn\u001b[0m \u001b[0mself\u001b[0m\u001b[0;34m.\u001b[0m\u001b[0m_do_call\u001b[0m\u001b[0;34m(\u001b[0m\u001b[0m_prun_fn\u001b[0m\u001b[0;34m,\u001b[0m \u001b[0mself\u001b[0m\u001b[0;34m.\u001b[0m\u001b[0m_session\u001b[0m\u001b[0;34m,\u001b[0m \u001b[0mhandle\u001b[0m\u001b[0;34m,\u001b[0m \u001b[0mfeeds\u001b[0m\u001b[0;34m,\u001b[0m \u001b[0mfetches\u001b[0m\u001b[0;34m)\u001b[0m\u001b[0;34m\u001b[0m\u001b[0m\n",
      "\u001b[0;32m~/anaconda/envs/tensorflow/lib/python3.6/site-packages/tensorflow/python/client/session.py\u001b[0m in \u001b[0;36m_do_call\u001b[0;34m(self, fn, *args)\u001b[0m\n\u001b[1;32m   1325\u001b[0m   \u001b[0;32mdef\u001b[0m \u001b[0m_do_call\u001b[0m\u001b[0;34m(\u001b[0m\u001b[0mself\u001b[0m\u001b[0;34m,\u001b[0m \u001b[0mfn\u001b[0m\u001b[0;34m,\u001b[0m \u001b[0;34m*\u001b[0m\u001b[0margs\u001b[0m\u001b[0;34m)\u001b[0m\u001b[0;34m:\u001b[0m\u001b[0;34m\u001b[0m\u001b[0m\n\u001b[1;32m   1326\u001b[0m     \u001b[0;32mtry\u001b[0m\u001b[0;34m:\u001b[0m\u001b[0;34m\u001b[0m\u001b[0m\n\u001b[0;32m-> 1327\u001b[0;31m       \u001b[0;32mreturn\u001b[0m \u001b[0mfn\u001b[0m\u001b[0;34m(\u001b[0m\u001b[0;34m*\u001b[0m\u001b[0margs\u001b[0m\u001b[0;34m)\u001b[0m\u001b[0;34m\u001b[0m\u001b[0m\n\u001b[0m\u001b[1;32m   1328\u001b[0m     \u001b[0;32mexcept\u001b[0m \u001b[0merrors\u001b[0m\u001b[0;34m.\u001b[0m\u001b[0mOpError\u001b[0m \u001b[0;32mas\u001b[0m \u001b[0me\u001b[0m\u001b[0;34m:\u001b[0m\u001b[0;34m\u001b[0m\u001b[0m\n\u001b[1;32m   1329\u001b[0m       \u001b[0mmessage\u001b[0m \u001b[0;34m=\u001b[0m \u001b[0mcompat\u001b[0m\u001b[0;34m.\u001b[0m\u001b[0mas_text\u001b[0m\u001b[0;34m(\u001b[0m\u001b[0me\u001b[0m\u001b[0;34m.\u001b[0m\u001b[0mmessage\u001b[0m\u001b[0;34m)\u001b[0m\u001b[0;34m\u001b[0m\u001b[0m\n",
      "\u001b[0;32m~/anaconda/envs/tensorflow/lib/python3.6/site-packages/tensorflow/python/client/session.py\u001b[0m in \u001b[0;36m_run_fn\u001b[0;34m(session, feed_dict, fetch_list, target_list, options, run_metadata)\u001b[0m\n\u001b[1;32m   1304\u001b[0m           return tf_session.TF_Run(session, options,\n\u001b[1;32m   1305\u001b[0m                                    \u001b[0mfeed_dict\u001b[0m\u001b[0;34m,\u001b[0m \u001b[0mfetch_list\u001b[0m\u001b[0;34m,\u001b[0m \u001b[0mtarget_list\u001b[0m\u001b[0;34m,\u001b[0m\u001b[0;34m\u001b[0m\u001b[0m\n\u001b[0;32m-> 1306\u001b[0;31m                                    status, run_metadata)\n\u001b[0m\u001b[1;32m   1307\u001b[0m \u001b[0;34m\u001b[0m\u001b[0m\n\u001b[1;32m   1308\u001b[0m     \u001b[0;32mdef\u001b[0m \u001b[0m_prun_fn\u001b[0m\u001b[0;34m(\u001b[0m\u001b[0msession\u001b[0m\u001b[0;34m,\u001b[0m \u001b[0mhandle\u001b[0m\u001b[0;34m,\u001b[0m \u001b[0mfeed_dict\u001b[0m\u001b[0;34m,\u001b[0m \u001b[0mfetch_list\u001b[0m\u001b[0;34m)\u001b[0m\u001b[0;34m:\u001b[0m\u001b[0;34m\u001b[0m\u001b[0m\n",
      "\u001b[0;31mKeyboardInterrupt\u001b[0m: "
     ]
    }
   ],
   "source": [
    "\"\"\"\n",
    "DON'T MODIFY ANYTHING IN THIS CELL\n",
    "\"\"\"\n",
    "save_model_path = './image_classification'\n",
    "\n",
    "print('Training...')\n",
    "with tf.Session() as sess:\n",
    "    # Initializing the variables\n",
    "    sess.run(tf.global_variables_initializer())\n",
    "    \n",
    "    # Training cycle\n",
    "    for epoch in range(epochs):\n",
    "        # Loop over all batches\n",
    "        n_batches = 5\n",
    "        for batch_i in range(1, n_batches + 1):\n",
    "            for batch_features, batch_labels in helper.load_preprocess_training_batch(batch_i, batch_size):\n",
    "                train_neural_network(sess, optimizer, keep_probability, batch_features, batch_labels)\n",
    "            print('Epoch {:>2}, CIFAR-10 Batch {}:  '.format(epoch + 1, batch_i), end='')\n",
    "            print_stats(sess, batch_features, batch_labels, cost, accuracy)\n",
    "            \n",
    "    # Save Model\n",
    "    saver = tf.train.Saver()\n",
    "    save_path = saver.save(sess, save_model_path)"
   ]
  },
  {
   "cell_type": "markdown",
   "metadata": {},
   "source": [
    "# Checkpoint\n",
    "The model has been saved to disk.\n",
    "## Test Model\n",
    "Test your model against the test dataset.  This will be your final accuracy. You should have an accuracy greater than 50%. If you don't, keep tweaking the model architecture and parameters."
   ]
  },
  {
   "cell_type": "code",
   "execution_count": null,
   "metadata": {
    "collapsed": true
   },
   "outputs": [],
   "source": [
    "\"\"\"\n",
    "DON'T MODIFY ANYTHING IN THIS CELL\n",
    "\"\"\"\n",
    "%matplotlib inline\n",
    "%config InlineBackend.figure_format = 'retina'\n",
    "\n",
    "import tensorflow as tf\n",
    "import pickle\n",
    "import helper\n",
    "import random\n",
    "\n",
    "# Set batch size if not already set\n",
    "try:\n",
    "    if batch_size:\n",
    "        pass\n",
    "except NameError:\n",
    "    batch_size = 64\n",
    "\n",
    "save_model_path = './image_classification'\n",
    "n_samples = 4\n",
    "top_n_predictions = 3\n",
    "\n",
    "def test_model():\n",
    "    \"\"\"\n",
    "    Test the saved model against the test dataset\n",
    "    \"\"\"\n",
    "\n",
    "    test_features, test_labels = pickle.load(open('preprocess_training.p', mode='rb'))\n",
    "    loaded_graph = tf.Graph()\n",
    "\n",
    "    with tf.Session(graph=loaded_graph) as sess:\n",
    "        # Load model\n",
    "        loader = tf.train.import_meta_graph(save_model_path + '.meta')\n",
    "        loader.restore(sess, save_model_path)\n",
    "\n",
    "        # Get Tensors from loaded model\n",
    "        loaded_x = loaded_graph.get_tensor_by_name('x:0')\n",
    "        loaded_y = loaded_graph.get_tensor_by_name('y:0')\n",
    "        loaded_keep_prob = loaded_graph.get_tensor_by_name('keep_prob:0')\n",
    "        loaded_logits = loaded_graph.get_tensor_by_name('logits:0')\n",
    "        loaded_acc = loaded_graph.get_tensor_by_name('accuracy:0')\n",
    "        \n",
    "        # Get accuracy in batches for memory limitations\n",
    "        test_batch_acc_total = 0\n",
    "        test_batch_count = 0\n",
    "        \n",
    "        for train_feature_batch, train_label_batch in helper.batch_features_labels(test_features, test_labels, batch_size):\n",
    "            test_batch_acc_total += sess.run(\n",
    "                loaded_acc,\n",
    "                feed_dict={loaded_x: train_feature_batch, loaded_y: train_label_batch, loaded_keep_prob: 1.0})\n",
    "            test_batch_count += 1\n",
    "\n",
    "        print('Testing Accuracy: {}\\n'.format(test_batch_acc_total/test_batch_count))\n",
    "\n",
    "        # Print Random Samples\n",
    "        random_test_features, random_test_labels = tuple(zip(*random.sample(list(zip(test_features, test_labels)), n_samples)))\n",
    "        random_test_predictions = sess.run(\n",
    "            tf.nn.top_k(tf.nn.softmax(loaded_logits), top_n_predictions),\n",
    "            feed_dict={loaded_x: random_test_features, loaded_y: random_test_labels, loaded_keep_prob: 1.0})\n",
    "        helper.display_image_predictions(random_test_features, random_test_labels, random_test_predictions)\n",
    "\n",
    "\n",
    "test_model()"
   ]
  },
  {
   "cell_type": "markdown",
   "metadata": {},
   "source": [
    "## Why 50-80% Accuracy?\n",
    "You might be wondering why you can't get an accuracy any higher. First things first, 50% isn't bad for a simple CNN.  Pure guessing would get you 10% accuracy. That's because there are many more techniques that can be applied to your model and we recemmond that once you are done with this project, you explore!\n",
    "\n",
    "## Submitting This Project\n",
    "When submitting this project, make sure to run all the cells before saving the notebook.  Save the notebook file as \"image_classification.ipynb\" and save it as a HTML file under \"File\" -> \"Download as\".  Include the \"helper.py\" and \"problem_unittests.py\" files in your submission."
   ]
  }
 ],
 "metadata": {
  "kernelspec": {
   "display_name": "Python 3",
   "language": "python",
   "name": "python3"
  },
  "language_info": {
   "codemirror_mode": {
    "name": "ipython",
    "version": 3
   },
   "file_extension": ".py",
   "mimetype": "text/x-python",
   "name": "python",
   "nbconvert_exporter": "python",
   "pygments_lexer": "ipython3",
   "version": "3.6.2"
  }
 },
 "nbformat": 4,
 "nbformat_minor": 1
}
